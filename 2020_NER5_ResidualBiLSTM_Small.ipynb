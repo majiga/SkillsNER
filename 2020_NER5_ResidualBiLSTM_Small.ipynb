{
 "cells": [
  {
   "cell_type": "markdown",
   "metadata": {},
   "source": [
    "## Bidirectional LSTM + Character-level-embedding + CRF\n",
    "\n",
    "### Running on the small size data to prepare the training dataset\n",
    "\n",
    "https://www.depends-on-the-definition.com/named-entity-recognition-with-residual-lstm-and-elmo/\n",
    "\n",
    "https://www.depends-on-the-definition.com/lstm-with-char-embeddings-for-ner/\n",
    "\n",
    "Enhancing sequence tagging: Bidirectional LSTMs With Character Embeddings For Named Entity Recognition"
   ]
  },
  {
   "cell_type": "code",
   "execution_count": 1,
   "metadata": {},
   "outputs": [
    {
     "name": "stdout",
     "output_type": "stream",
     "text": [
      "figure Oproject O\n",
      "\n",
      "33139\n",
      "Num words in training set =  25802\n"
     ]
    },
    {
     "data": {
      "text/plain": [
       "<Figure size 640x480 with 1 Axes>"
      ]
     },
     "metadata": {},
     "output_type": "display_data"
    }
   ],
   "source": [
    "import glob, os, csv, sys\n",
    "import pandas as pd\n",
    "import numpy as np\n",
    "import matplotlib.pyplot as plt\n",
    "plt.style.use('ggplot')\n",
    "\n",
    "# AUTO-LABELLED DATA SET = TRAIN SET + VALIDATION SET\n",
    "filename = r\"C:\\Users\\20230326\\1-2 OzROCK\\Files\\autolabelled_smallsize_dictionary_labelled.txt\"\n",
    "\n",
    "#filename = r\"C:\\Users\\20230326\\wamex\\data\\OzROCK_Labeled_Geological_Dataset.txt\"  # 480 files\n",
    "#data = pd.read_csv(filename, header = None, delimiter=\" \", na_values=['\\n'], quoting=csv.QUOTE_NONE, encoding='latin1', skip_blank_lines=True)\n",
    "#print(data.info())\n",
    "#print(data.head(10))\n",
    "\n",
    "#data = dataframes.where((pd.notnull(dataframes)), None)\n",
    "#data = data.fillna('')\n",
    "#data = data.replace(np.nan, '', regex=True)\n",
    "\n",
    "words = []\n",
    "tags = []\n",
    "train_sentences = []\n",
    "\n",
    "with open(filename, 'r') as file :\n",
    "    currSentence = []\n",
    "    lines = []\n",
    "    for line in file:\n",
    "        cols = line.split(\" \")\n",
    "        if line.strip() == '':\n",
    "            # Reset sentence            \n",
    "            train_sentences.append(currSentence)\n",
    "            currSentence = []\n",
    "        elif len(cols) > 2:\n",
    "            print(line)\n",
    "        else:\n",
    "            currSentence.append([cols[0].strip(), cols[1].strip()])\n",
    "            words.append(cols[0].strip())\n",
    "            tags.append(cols[1].strip())\n",
    "print(len(train_sentences)) # 18589; 160,343\n",
    "\n",
    "train_words = list(set(words))\n",
    "print('Num words in training set = ', len(train_words))\n",
    "\n",
    "train_sent_lengths = [len(s) for s in train_sentences]\n",
    "\n",
    "plt.hist(train_sent_lengths, density=1, bins=1000) # x value is bins\n",
    "plt.axis([0, 140, 0, 0.1])  # xmin,xmax,ymin,ymax\n",
    "plt.xlabel('Sentence Length')\n",
    "plt.ylabel('Percentage of sentences')\n",
    "\n",
    "plt.show()"
   ]
  },
  {
   "cell_type": "code",
   "execution_count": 2,
   "metadata": {
    "scrolled": true
   },
   "outputs": [
    {
     "name": "stdout",
     "output_type": "stream",
     "text": [
      "1797\n",
      "Num words in training + test sets =  5582\n"
     ]
    },
    {
     "data": {
      "image/png": "[encoded data removed]",
      "text/plain": [
       "<Figure size 432x288 with 1 Axes>"
      ]
     },
     "metadata": {
      "needs_background": "light"
     },
     "output_type": "display_data"
    }
   ],
   "source": [
    "# TEST DATA - manually annotated\n",
    "test_filename = r\"C:\\Users\\20230326\\1-2 OzROCK\\Files\\TestSet_March03.txt\" # TestSet_March02\n",
    "filename_result = r\"C:\\Users\\20230326\\1-2 OzROCK\\Files\\TestSet_trueTag_modelTag.txt\"\n",
    "\n",
    "#test_data = pd.read_csv(filename, header = None, delimiter=\" \", na_values=['\\n'], quoting=csv.QUOTE_NONE, encoding='latin1', skip_blank_lines=True)\n",
    "#print(test_data.info())\n",
    "#print(test_data.head(10))\n",
    "words = []\n",
    "test_sentences = []\n",
    "with open(test_filename, 'r') as file :\n",
    "    currSentence = []\n",
    "    lines = []\n",
    "    for line in file:\n",
    "        cols = line.split(\" \")\n",
    "        if line.strip() == '':\n",
    "            # Reset sentence            \n",
    "            test_sentences.append(currSentence)\n",
    "            currSentence = []\n",
    "        elif len(cols) > 2:\n",
    "            print(line)\n",
    "        else :\n",
    "            currSentence.append([cols[0].strip(), cols[1].strip()])            \n",
    "            words.append(cols[0].strip())\n",
    "                \n",
    "print(len(test_sentences)) # 18589; 160,343\n",
    "\n",
    "test_words = list(set(words))\n",
    "print('Num words in training + test sets = ', len(test_words))\n",
    "\n",
    "test_sent_lengths = [len(s) for s in test_sentences]\n",
    "\n",
    "plt.hist(test_sent_lengths, density=1, bins=1000) # x value is bins\n",
    "plt.axis([0, 140, 0, 0.1])  # xmin,xmax,ymin,ymax\n",
    "plt.xlabel('Sentence Length')\n",
    "plt.ylabel('Percentage of sentences')\n",
    "\n",
    "plt.show()"
   ]
  },
  {
   "cell_type": "code",
   "execution_count": 3,
   "metadata": {},
   "outputs": [
    {
     "name": "stdout",
     "output_type": "stream",
     "text": [
      "Number of unique words in all data:  28009\n",
      "\n",
      "Number of unique tags:  13\n",
      "['B-ORE_DEPOSIT', 'B-MINERAL', 'I-ORE_DEPOSIT', 'I-MINERAL', 'B-TIMESCALE', 'B-STRAT', 'B-LOCATION', 'I-STRAT', 'I-LOCATION', 'O', 'I-ROCK', 'B-ROCK', 'I-TIMESCALE']\n",
      "28009\n",
      "['leonardo', 'diemalsr', 'understandably', '21.8', 'background', 'widely', 'encompasses', '86', 'eighty', 'jewell']\n"
     ]
    }
   ],
   "source": [
    "# Word dictionary\n",
    "words = train_words + test_words\n",
    "words = list(set(words))\n",
    "words.append(\"ENDPAD\")\n",
    "\n",
    "n_words = len(words) # unique words\n",
    "print(\"Number of unique words in all data: \", n_words)\n",
    "\n",
    "tags = list(set(tags))\n",
    "n_tags = len(tags)\n",
    "print(\"\\nNumber of unique tags: \", n_tags)\n",
    "print(tags)\n",
    "\n",
    "print(len(words))\n",
    "print(words[:10])"
   ]
  },
  {
   "cell_type": "markdown",
   "metadata": {},
   "source": [
    "To encode the character-level information, we will use character embeddings and a LSTM to encode every word to an vector.\n",
    "We can use basically everything that produces a single vector for a sequence of characters that represent a word. You can also use a max-pooling architecture or a CNN or whatever works.\n",
    "Then we feed the vector to another LSTM together with the learned word embedding."
   ]
  },
  {
   "cell_type": "code",
   "execution_count": 4,
   "metadata": {},
   "outputs": [
    {
     "name": "stdout",
     "output_type": "stream",
     "text": [
      "14864\n",
      "12\n"
     ]
    }
   ],
   "source": [
    "# Create dictionaries of words and tags.\n",
    "word2idx = {w: i + 4 for i, w in enumerate(words)}\n",
    "word2idx[\"UNK\"] = 1\n",
    "word2idx[\"PAD\"] = 0\n",
    "word2idx[\"null\"] = 2\n",
    "word2idx[\"nan\"] = 3\n",
    "\n",
    "idx2word = {i: w for w, i in word2idx.items()}\n",
    "tag2idx = {t: i + 1 for i, t in enumerate(tags)}\n",
    "tag2idx[\"PAD\"] = 0\n",
    "idx2tag = {i: w for w, i in tag2idx.items()}\n",
    "\n",
    "print(word2idx[\"gold\"]) # id=3818\n",
    "print(tag2idx[\"B-ROCK\"]) # id = 9"
   ]
  },
  {
   "cell_type": "code",
   "execution_count": 5,
   "metadata": {},
   "outputs": [
    {
     "name": "stdout",
     "output_type": "stream",
     "text": [
      "2\n"
     ]
    }
   ],
   "source": [
    "print(word2idx[\"null\"]) # id=3818"
   ]
  },
  {
   "cell_type": "code",
   "execution_count": 6,
   "metadata": {},
   "outputs": [
    {
     "name": "stdout",
     "output_type": "stream",
     "text": [
      "Num words =  28012\n"
     ]
    }
   ],
   "source": [
    "max_len = 80 # length of each sentence\n",
    "\n",
    "#print(sentences[1])\n",
    "print('Num words = ', len(word2idx))\n",
    "\n",
    "X_word = [[word2idx[w[0]] for w in s] for s in train_sentences]\n",
    "#X_word = []\n",
    "#for s in sentences:\n",
    "#    for w in s:\n",
    "#        try:\n",
    "#            a = [word2idx[w[0]] for w in s]\n",
    "#            X_word.append(a)\n",
    "#        except KeyError as err:\n",
    "#            print('\\nException: ', sys.exc_info()[0], err, '\\n',\n",
    "#                  s, '\\n', w, a)\n",
    "#print(X_word[0:10])"
   ]
  },
  {
   "cell_type": "code",
   "execution_count": 7,
   "metadata": {},
   "outputs": [
    {
     "name": "stderr",
     "output_type": "stream",
     "text": [
      "Using TensorFlow backend.\n"
     ]
    }
   ],
   "source": [
    "# Map the senctences to a sequence of numbers and then pad the sequence\n",
    "# we increased the index of the words by one to use zero as a padding value.\n",
    "# This is done because we want to use the mask_zeor parameter of the embedding layer to ignore inputs with value zero\n",
    "from keras.preprocessing.sequence import pad_sequences\n",
    "\n",
    "# Pad the sentences\n",
    "X_word = pad_sequences(maxlen=max_len, sequences=X_word, value=word2idx[\"PAD\"], padding='post', truncating='post')"
   ]
  },
  {
   "cell_type": "code",
   "execution_count": 8,
   "metadata": {},
   "outputs": [
    {
     "name": "stdout",
     "output_type": "stream",
     "text": [
      "leonardo\n"
     ]
    },
    {
     "data": {
      "text/plain": [
       "['leonardo',\n",
       " 'diemalsr',\n",
       " 'understandably',\n",
       " '21.8',\n",
       " 'background',\n",
       " 'widely',\n",
       " 'encompasses',\n",
       " '86',\n",
       " 'eighty',\n",
       " 'jewell']"
      ]
     },
     "execution_count": 8,
     "metadata": {},
     "output_type": "execute_result"
    }
   ],
   "source": [
    "print(words[0])\n",
    "#words[0] = 'NaN'\n",
    "words[:10]"
   ]
  },
  {
   "cell_type": "raw",
   "metadata": {},
   "source": [
    "word_values = []\n",
    "for w in words:\n",
    "    print(w)\n",
    "    if type(w) == str:\n",
    "        word_values.append(w)\n",
    "\n",
    "print(len(word_values))\n",
    "chars = set([w_i for w in word_values for w_i in w])\n",
    "n_chars = len(chars)\n",
    "print(n_chars)\n",
    "print(chars)"
   ]
  },
  {
   "cell_type": "code",
   "execution_count": 9,
   "metadata": {},
   "outputs": [
    {
     "name": "stdout",
     "output_type": "stream",
     "text": [
      "30\n",
      "100\n"
     ]
    }
   ],
   "source": [
    "# Generate a dictionary for the characters we want to use and create the sequence of characters for every token,\n",
    "# set to 10.\n",
    "# We could also use longer or shorter sequences. \n",
    "# We could even use two sequences, one with the five first characters and one with the five last chars\n",
    "max_len_char = 30 # character length\n",
    "print(max_len_char)\n",
    "\n",
    "# tags = list(set(data[\"Tag\"].values))\n",
    "#chars = set([w_i for w in words for w_i in w])\n",
    "#n_chars = len(chars)\n",
    "#print(n_chars)\n",
    "#print(chars)\n",
    "\n",
    "import string\n",
    "chars = [s for s in string.printable]\n",
    "n_chars = len(chars)\n",
    "print(n_chars)"
   ]
  },
  {
   "cell_type": "code",
   "execution_count": 10,
   "metadata": {},
   "outputs": [
    {
     "data": {
      "text/plain": [
       "102"
      ]
     },
     "execution_count": 10,
     "metadata": {},
     "output_type": "execute_result"
    }
   ],
   "source": [
    "char2idx = {c: i + 2 for i, c in enumerate(chars)}\n",
    "char2idx[\"PAD\"] = 0\n",
    "char2idx[\"UNK\"] = 1\n",
    "len(char2idx)"
   ]
  },
  {
   "cell_type": "code",
   "execution_count": 11,
   "metadata": {},
   "outputs": [],
   "source": [
    "X_char = []\n",
    "for sentence in train_sentences:\n",
    "    sent_seq = []\n",
    "    for i in range(max_len):\n",
    "        word_seq = []\n",
    "        for j in range(max_len_char):\n",
    "            try:\n",
    "                word_seq.append(char2idx.get(sentence[i][0][j]))\n",
    "            except:\n",
    "                word_seq.append(char2idx.get(\"PAD\"))\n",
    "        sent_seq.append(word_seq)\n",
    "    X_char.append(np.array(sent_seq))"
   ]
  },
  {
   "cell_type": "code",
   "execution_count": 12,
   "metadata": {},
   "outputs": [
    {
     "name": "stdout",
     "output_type": "stream",
     "text": [
      "[10, 7, 10, 10, 10, 10, 10, 10, 12, 11, 11, 10, 10, 12, 11, 10, 10, 10, 12, 11, 10]\n",
      "[10  7 10 10 10 10 10 10 12 11 11 10 10 12 11 10 10 10 12 11 10  0  0  0\n",
      "  0  0  0  0  0  0  0  0  0  0  0  0  0  0  0  0  0  0  0  0  0  0  0  0\n",
      "  0  0  0  0  0  0  0  0  0  0  0  0  0  0  0  0  0  0  0  0  0  0  0  0\n",
      "  0  0  0  0  0  0  0  0]\n"
     ]
    }
   ],
   "source": [
    "# Map tags to a sequence numbers and the pad\n",
    "y = [[tag2idx[w[1]] for w in s] for s in train_sentences]\n",
    "print(y[0])\n",
    "\n",
    "y = pad_sequences(maxlen=max_len, sequences=y, value=tag2idx[\"PAD\"], padding='post', truncating='post')\n",
    "print(y[0])"
   ]
  },
  {
   "cell_type": "raw",
   "metadata": {},
   "source": [
    "print(len(X_char[5]))\n",
    "print(X_char[5].shape)\n",
    "print(X_char[5][:2])"
   ]
  },
  {
   "cell_type": "code",
   "execution_count": 13,
   "metadata": {},
   "outputs": [],
   "source": [
    "# We split in train and test set.\n",
    "from sklearn.model_selection import train_test_split\n",
    "\n",
    "X_word_tr, X_word_te, y_tr, y_te = train_test_split(X_word, y, test_size=0.2, random_state=45)\n",
    "X_char_tr, X_char_te, _, _ = train_test_split(X_char, y, test_size=0.2, random_state=45)"
   ]
  },
  {
   "cell_type": "code",
   "execution_count": 14,
   "metadata": {},
   "outputs": [
    {
     "name": "stdout",
     "output_type": "stream",
     "text": [
      "(26511, 80)\n",
      "(6628, 80)\n",
      "26511\n",
      "6628\n",
      "26511\n",
      "6628\n"
     ]
    }
   ],
   "source": [
    "print(X_word_tr.shape)\n",
    "print(X_word_te.shape)\n",
    "\n",
    "print(len(X_char_tr))\n",
    "print(len(X_char_te))\n",
    "\n",
    "print(len(y_tr))\n",
    "print(len(y_te))"
   ]
  },
  {
   "cell_type": "markdown",
   "metadata": {},
   "source": [
    "Define the character embedding model\n",
    "Trick is to wrap the parts that should be applied to the characters in a TimeDistributed layer to apply the same layers to every character sequence."
   ]
  },
  {
   "cell_type": "markdown",
   "metadata": {},
   "source": [
    "from keras.models import Model, Input\n",
    "from keras.layers import LSTM, Embedding, Dense, TimeDistributed, Dropout, Conv1D\n",
    "from keras.layers import Bidirectional, concatenate, SpatialDropout1D, GlobalMaxPooling1D\n",
    "from keras.utils import plot_model\n",
    "from keras.utils.np_utils import to_categorical\n",
    "\n",
    "# input and embedding for words\n",
    "word_in = Input(shape=(max_len,))\n",
    "emb_word = Embedding(input_dim=n_words + 4, output_dim=64, input_length=max_len, mask_zero=True)(word_in)\n",
    "\n",
    "# input and embeddings for characters\n",
    "char_in = Input(shape=(max_len, max_len_char,))\n",
    "emb_char = TimeDistributed(Embedding(input_dim=n_chars + 2, output_dim=30, input_length=max_len_char, mask_zero=True))(char_in)\n",
    "\n",
    "# character LSTM to get word encodings by characters\n",
    "char_enc = TimeDistributed(LSTM(units=100, return_sequences=False, recurrent_dropout=0.5))(emb_char)\n",
    "\n",
    "# main LSTM\n",
    "x = concatenate([emb_word, char_enc])\n",
    "x = SpatialDropout1D(0.3)(x)\n",
    "\n",
    "main_lstm = Bidirectional(LSTM(units=100, return_sequences=True, recurrent_dropout=0.5))(x)\n",
    "\n",
    "main_dense = TimeDistributed(Dense(100, activation=\"relu\"))(main_lstm)  # a dense layer as suggested by neuralNer\n",
    "\n",
    "out = TimeDistributed(Dense(n_tags + 1, activation=\"softmax\"))(main_dense)\n",
    "\n",
    "model = Model([word_in, char_in], out)\n",
    "\n",
    "# Train the model: compile the model and look at the summary.\n",
    "model.compile(optimizer=\"adam\", loss=\"sparse_categorical_crossentropy\")\n",
    "#model.compile(optimizer='adam', loss='sparse_categorical_crossentropy', metrics=['accuracy'])\n",
    "#model.compile(optimizer=\"adam\", loss=\"sparse_categorical_crossentropy\", metrics=[\"acc\"])"
   ]
  },
  {
   "cell_type": "code",
   "execution_count": 15,
   "metadata": {},
   "outputs": [
    {
     "name": "stderr",
     "output_type": "stream",
     "text": [
      "WARNING: Logging before flag parsing goes to stderr.\n",
      "W0826 16:01:07.425378  6876 deprecation.py:323] From C:\\Users\\20230326\\AppData\\Roaming\\Python\\Python37\\site-packages\\tensorflow\\python\\compat\\v2_compat.py:96: disable_resource_variables (from tensorflow.python.ops.variable_scope) is deprecated and will be removed in a future version.\n",
      "Instructions for updating:\n",
      "non-resource variables are not supported in the long term\n"
     ]
    },
    {
     "ename": "AttributeError",
     "evalue": "module 'tensorflow' has no attribute 'get_default_graph'",
     "output_type": "error",
     "traceback": [
      "\u001b[1;31m---------------------------------------------------------------------------\u001b[0m",
      "\u001b[1;31mAttributeError\u001b[0m                            Traceback (most recent call last)",
      "\u001b[1;32m<ipython-input-15-1850a665c466>\u001b[0m in \u001b[0;36m<module>\u001b[1;34m\u001b[0m\n\u001b[0;32m     17\u001b[0m \u001b[1;33m\u001b[0m\u001b[0m\n\u001b[0;32m     18\u001b[0m \u001b[1;31m# input and embedding for words\u001b[0m\u001b[1;33m\u001b[0m\u001b[1;33m\u001b[0m\u001b[1;33m\u001b[0m\u001b[0m\n\u001b[1;32m---> 19\u001b[1;33m \u001b[0mword_in\u001b[0m \u001b[1;33m=\u001b[0m \u001b[0mInput\u001b[0m\u001b[1;33m(\u001b[0m\u001b[0mshape\u001b[0m\u001b[1;33m=\u001b[0m\u001b[1;33m(\u001b[0m\u001b[0mmax_len\u001b[0m\u001b[1;33m,\u001b[0m\u001b[1;33m)\u001b[0m\u001b[1;33m)\u001b[0m\u001b[1;33m\u001b[0m\u001b[1;33m\u001b[0m\u001b[0m\n\u001b[0m\u001b[0;32m     20\u001b[0m \u001b[0memb_word\u001b[0m \u001b[1;33m=\u001b[0m \u001b[0mEmbedding\u001b[0m\u001b[1;33m(\u001b[0m\u001b[0minput_dim\u001b[0m\u001b[1;33m=\u001b[0m\u001b[0mn_words\u001b[0m \u001b[1;33m+\u001b[0m \u001b[1;36m4\u001b[0m\u001b[1;33m,\u001b[0m \u001b[0moutput_dim\u001b[0m\u001b[1;33m=\u001b[0m\u001b[1;36m64\u001b[0m\u001b[1;33m,\u001b[0m \u001b[0minput_length\u001b[0m\u001b[1;33m=\u001b[0m\u001b[0mmax_len\u001b[0m\u001b[1;33m,\u001b[0m \u001b[0mmask_zero\u001b[0m\u001b[1;33m=\u001b[0m\u001b[1;32mTrue\u001b[0m\u001b[1;33m)\u001b[0m\u001b[1;33m(\u001b[0m\u001b[0mword_in\u001b[0m\u001b[1;33m)\u001b[0m\u001b[1;33m\u001b[0m\u001b[1;33m\u001b[0m\u001b[0m\n\u001b[0;32m     21\u001b[0m \u001b[1;33m\u001b[0m\u001b[0m\n",
      "\u001b[1;32m~\\AppData\\Local\\Continuum\\anaconda3\\lib\\site-packages\\keras\\engine\\input_layer.py\u001b[0m in \u001b[0;36mInput\u001b[1;34m(shape, batch_shape, name, dtype, sparse, tensor)\u001b[0m\n\u001b[0;32m    176\u001b[0m                              \u001b[0mname\u001b[0m\u001b[1;33m=\u001b[0m\u001b[0mname\u001b[0m\u001b[1;33m,\u001b[0m \u001b[0mdtype\u001b[0m\u001b[1;33m=\u001b[0m\u001b[0mdtype\u001b[0m\u001b[1;33m,\u001b[0m\u001b[1;33m\u001b[0m\u001b[1;33m\u001b[0m\u001b[0m\n\u001b[0;32m    177\u001b[0m                              \u001b[0msparse\u001b[0m\u001b[1;33m=\u001b[0m\u001b[0msparse\u001b[0m\u001b[1;33m,\u001b[0m\u001b[1;33m\u001b[0m\u001b[1;33m\u001b[0m\u001b[0m\n\u001b[1;32m--> 178\u001b[1;33m                              input_tensor=tensor)\n\u001b[0m\u001b[0;32m    179\u001b[0m     \u001b[1;31m# Return tensor including _keras_shape and _keras_history.\u001b[0m\u001b[1;33m\u001b[0m\u001b[1;33m\u001b[0m\u001b[1;33m\u001b[0m\u001b[0m\n\u001b[0;32m    180\u001b[0m     \u001b[1;31m# Note that in this case train_output and test_output are the same pointer.\u001b[0m\u001b[1;33m\u001b[0m\u001b[1;33m\u001b[0m\u001b[1;33m\u001b[0m\u001b[0m\n",
      "\u001b[1;32m~\\AppData\\Local\\Continuum\\anaconda3\\lib\\site-packages\\keras\\legacy\\interfaces.py\u001b[0m in \u001b[0;36mwrapper\u001b[1;34m(*args, **kwargs)\u001b[0m\n\u001b[0;32m     89\u001b[0m                 warnings.warn('Update your `' + object_name + '` call to the ' +\n\u001b[0;32m     90\u001b[0m                               'Keras 2 API: ' + signature, stacklevel=2)\n\u001b[1;32m---> 91\u001b[1;33m             \u001b[1;32mreturn\u001b[0m \u001b[0mfunc\u001b[0m\u001b[1;33m(\u001b[0m\u001b[1;33m*\u001b[0m\u001b[0margs\u001b[0m\u001b[1;33m,\u001b[0m \u001b[1;33m**\u001b[0m\u001b[0mkwargs\u001b[0m\u001b[1;33m)\u001b[0m\u001b[1;33m\u001b[0m\u001b[1;33m\u001b[0m\u001b[0m\n\u001b[0m\u001b[0;32m     92\u001b[0m         \u001b[0mwrapper\u001b[0m\u001b[1;33m.\u001b[0m\u001b[0m_original_function\u001b[0m \u001b[1;33m=\u001b[0m \u001b[0mfunc\u001b[0m\u001b[1;33m\u001b[0m\u001b[1;33m\u001b[0m\u001b[0m\n\u001b[0;32m     93\u001b[0m         \u001b[1;32mreturn\u001b[0m \u001b[0mwrapper\u001b[0m\u001b[1;33m\u001b[0m\u001b[1;33m\u001b[0m\u001b[0m\n",
      "\u001b[1;32m~\\AppData\\Local\\Continuum\\anaconda3\\lib\\site-packages\\keras\\engine\\input_layer.py\u001b[0m in \u001b[0;36m__init__\u001b[1;34m(self, input_shape, batch_size, batch_input_shape, dtype, input_tensor, sparse, name)\u001b[0m\n\u001b[0;32m     37\u001b[0m         \u001b[1;32mif\u001b[0m \u001b[1;32mnot\u001b[0m \u001b[0mname\u001b[0m\u001b[1;33m:\u001b[0m\u001b[1;33m\u001b[0m\u001b[1;33m\u001b[0m\u001b[0m\n\u001b[0;32m     38\u001b[0m             \u001b[0mprefix\u001b[0m \u001b[1;33m=\u001b[0m \u001b[1;34m'input'\u001b[0m\u001b[1;33m\u001b[0m\u001b[1;33m\u001b[0m\u001b[0m\n\u001b[1;32m---> 39\u001b[1;33m             \u001b[0mname\u001b[0m \u001b[1;33m=\u001b[0m \u001b[0mprefix\u001b[0m \u001b[1;33m+\u001b[0m \u001b[1;34m'_'\u001b[0m \u001b[1;33m+\u001b[0m \u001b[0mstr\u001b[0m\u001b[1;33m(\u001b[0m\u001b[0mK\u001b[0m\u001b[1;33m.\u001b[0m\u001b[0mget_uid\u001b[0m\u001b[1;33m(\u001b[0m\u001b[0mprefix\u001b[0m\u001b[1;33m)\u001b[0m\u001b[1;33m)\u001b[0m\u001b[1;33m\u001b[0m\u001b[1;33m\u001b[0m\u001b[0m\n\u001b[0m\u001b[0;32m     40\u001b[0m         \u001b[0msuper\u001b[0m\u001b[1;33m(\u001b[0m\u001b[0mInputLayer\u001b[0m\u001b[1;33m,\u001b[0m \u001b[0mself\u001b[0m\u001b[1;33m)\u001b[0m\u001b[1;33m.\u001b[0m\u001b[0m__init__\u001b[0m\u001b[1;33m(\u001b[0m\u001b[0mdtype\u001b[0m\u001b[1;33m=\u001b[0m\u001b[0mdtype\u001b[0m\u001b[1;33m,\u001b[0m \u001b[0mname\u001b[0m\u001b[1;33m=\u001b[0m\u001b[0mname\u001b[0m\u001b[1;33m)\u001b[0m\u001b[1;33m\u001b[0m\u001b[1;33m\u001b[0m\u001b[0m\n\u001b[0;32m     41\u001b[0m \u001b[1;33m\u001b[0m\u001b[0m\n",
      "\u001b[1;32m~\\AppData\\Local\\Continuum\\anaconda3\\lib\\site-packages\\keras\\backend\\tensorflow_backend.py\u001b[0m in \u001b[0;36mget_uid\u001b[1;34m(prefix)\u001b[0m\n\u001b[0;32m     72\u001b[0m     \"\"\"\n\u001b[0;32m     73\u001b[0m     \u001b[1;32mglobal\u001b[0m \u001b[0m_GRAPH_UID_DICTS\u001b[0m\u001b[1;33m\u001b[0m\u001b[1;33m\u001b[0m\u001b[0m\n\u001b[1;32m---> 74\u001b[1;33m     \u001b[0mgraph\u001b[0m \u001b[1;33m=\u001b[0m \u001b[0mtf\u001b[0m\u001b[1;33m.\u001b[0m\u001b[0mget_default_graph\u001b[0m\u001b[1;33m(\u001b[0m\u001b[1;33m)\u001b[0m\u001b[1;33m\u001b[0m\u001b[1;33m\u001b[0m\u001b[0m\n\u001b[0m\u001b[0;32m     75\u001b[0m     \u001b[1;32mif\u001b[0m \u001b[0mgraph\u001b[0m \u001b[1;32mnot\u001b[0m \u001b[1;32min\u001b[0m \u001b[0m_GRAPH_UID_DICTS\u001b[0m\u001b[1;33m:\u001b[0m\u001b[1;33m\u001b[0m\u001b[1;33m\u001b[0m\u001b[0m\n\u001b[0;32m     76\u001b[0m         \u001b[0m_GRAPH_UID_DICTS\u001b[0m\u001b[1;33m[\u001b[0m\u001b[0mgraph\u001b[0m\u001b[1;33m]\u001b[0m \u001b[1;33m=\u001b[0m \u001b[0mdefaultdict\u001b[0m\u001b[1;33m(\u001b[0m\u001b[0mint\u001b[0m\u001b[1;33m)\u001b[0m\u001b[1;33m\u001b[0m\u001b[1;33m\u001b[0m\u001b[0m\n",
      "\u001b[1;31mAttributeError\u001b[0m: module 'tensorflow' has no attribute 'get_default_graph'"
     ]
    }
   ],
   "source": [
    "import tensorflow.compat.v1 as tf\n",
    "tf.disable_v2_behavior()\n",
    "\n",
    "#import tensorflow_hub as hub\n",
    "#from keras import backend as K\n",
    "from tensorflow import keras\n",
    "#from keras.models import Model\n",
    "#from keras.layers import Input\n",
    "#from keras.layers.merge import add\n",
    "#from keras.layers import LSTM, Embedding, Dense, TimeDistributed, Dropout, Bidirectional, Lambda\n",
    "\n",
    "from keras.models import Model, Input\n",
    "from keras.layers import LSTM, Embedding, Dense, TimeDistributed, Dropout, Conv1D\n",
    "from keras.layers import Bidirectional, concatenate, SpatialDropout1D, GlobalMaxPooling1D\n",
    "from keras.utils import plot_model\n",
    "from keras.utils.np_utils import to_categorical\n",
    "\n",
    "# input and embedding for words\n",
    "word_in = Input(shape=(max_len,))\n",
    "emb_word = Embedding(input_dim=n_words + 4, output_dim=64, input_length=max_len, mask_zero=True)(word_in)\n",
    "\n",
    "# input and embeddings for characters\n",
    "char_in = Input(shape=(max_len, max_len_char,))\n",
    "emb_char = TimeDistributed(Embedding(input_dim=n_chars + 2, output_dim=30, input_length=max_len_char, mask_zero=True))(char_in)\n",
    "\n",
    "# character LSTM to get word encodings by characters\n",
    "char_enc = TimeDistributed(LSTM(units=100, return_sequences=False, recurrent_dropout=0.5))(emb_char)\n",
    "\n",
    "# main LSTM\n",
    "x = concatenate([emb_word, char_enc])\n",
    "x = SpatialDropout1D(0.3)(x)\n",
    "\n",
    "main_lstm = Bidirectional(LSTM(units=100, return_sequences=True, recurrent_dropout=0.5))(x)\n",
    "\n",
    "main_dense = TimeDistributed(Dense(100, activation=\"relu\"))(main_lstm)  # a dense layer as suggested by neuralNer\n",
    "\n",
    "out = TimeDistributed(Dense(n_tags + 1, activation=\"softmax\"))(main_dense)\n",
    "\n",
    "model = Model([word_in, char_in], out)"
   ]
  },
  {
   "cell_type": "code",
   "execution_count": null,
   "metadata": {},
   "outputs": [],
   "source": [
    "batch_size = 32\n",
    "input_text = Input(shape=(max_len,), dtype=tf.string)\n",
    "embedding = Lambda(ElmoEmbedding, output_shape=(None, 1024))(input_text)\n",
    "x = Bidirectional(LSTM(units=512, return_sequences=True,\n",
    "                       recurrent_dropout=0.2, dropout=0.2))(embedding)\n",
    "x_rnn = Bidirectional(LSTM(units=512, return_sequences=True,\n",
    "                           recurrent_dropout=0.2, dropout=0.2))(x)\n",
    "x = add([x, x_rnn])  # residual connection to the first biLSTM\n",
    "out = TimeDistributed(Dense(n_tags, activation=\"softmax\"))(x)\n",
    "\n",
    "model = Model(input_text, out)\n",
    "model.compile(optimizer=\"adam\", loss=\"sparse_categorical_crossentropy\", metrics=[\"accuracy\"])"
   ]
  },
  {
   "cell_type": "code",
   "execution_count": null,
   "metadata": {},
   "outputs": [],
   "source": [
    "model.summary()\n",
    "plot_model(model, to_file='model2_WL_CL_BiLSTM.png', show_shapes=True, show_layer_names=True)"
   ]
  },
  {
   "cell_type": "code",
   "execution_count": null,
   "metadata": {},
   "outputs": [],
   "source": [
    "#history = model.fit([X_word_tr,\n",
    "#                     np.array(X_char_tr).reshape((len(X_char_tr), max_len, max_len_char))],\n",
    "#                    np.array(y_tr).reshape(len(y_tr), max_len, 1),\n",
    "#                    batch_size=32, epochs=100, validation_split=0.1, verbose=1)\n",
    "history = model.fit([X_word_tr,\n",
    "                     np.array(X_char_tr).reshape((len(X_char_tr), max_len, max_len_char))],\n",
    "                    np.array(y_tr).reshape(len(y_tr), max_len, 1),\n",
    "                    batch_size=32, epochs=10, validation_split=0.2, verbose=2)"
   ]
  },
  {
   "cell_type": "code",
   "execution_count": null,
   "metadata": {},
   "outputs": [],
   "source": [
    "hist = pd.DataFrame(history.history)\n",
    "\n",
    "import matplotlib.pyplot as plt\n",
    "plt.style.use(\"ggplot\")\n",
    "plt.figure(figsize=(5,5))\n",
    "plt.plot(hist[\"loss\"])\n",
    "plt.plot(hist[\"val_loss\"])\n",
    "\n",
    "#plt.figure(figsize=(5,5))\n",
    "#plt.plot(hist[\"acc\"])\n",
    "#plt.plot(hist[\"val_acc\"])\n",
    "plt.show()"
   ]
  },
  {
   "cell_type": "code",
   "execution_count": null,
   "metadata": {},
   "outputs": [],
   "source": [
    "# Save the model\n",
    "from keras.models import load_model\n",
    "\n",
    "model.save(r\"C:/Users/20230326/wamex/data/2020_model_WL_CL_BiLSTM_Small.h5\")  # creates a HDF5 file 'my_model.h5'\n",
    "#del model  # deletes the existing model"
   ]
  },
  {
   "cell_type": "raw",
   "metadata": {},
   "source": [
    "# TEST this\n",
    "# returns a compiled model, identical to the previous one\n",
    "model_loaded = load_model(r\"C:/Users/20230326/wamex/data/2020_model_WL_CL_BiLSTM_Small.h5\")\n",
    "y_pred = model_loaded.predict([X_word_te,\n",
    "                        np.array(X_char_te).reshape((len(X_char_te), max_len, max_len_char))])\n",
    "len(y_pred)"
   ]
  },
  {
   "cell_type": "code",
   "execution_count": null,
   "metadata": {},
   "outputs": [],
   "source": [
    "y_pred = model.predict([X_word_te,\n",
    "                        np.array(X_char_te).reshape((len(X_char_te), max_len, max_len_char))])\n",
    "len(y_pred)"
   ]
  },
  {
   "cell_type": "code",
   "execution_count": null,
   "metadata": {},
   "outputs": [],
   "source": [
    "def print_prediction(i):\n",
    "    p = np.argmax(y_pred[i], axis=-1)\n",
    "    print(\"{:15}|{:15}|{}\".format(\"Word\", \"Truth\", \"Predicted\"))\n",
    "    print(40 * \"=\")\n",
    "\n",
    "    for w, t, pred in zip(X_word_te[i], y_te[i], p):\n",
    "        if w != 0:\n",
    "            print(\"{:15} {:15} {}\".format(idx2word[w], idx2tag[t], idx2tag[pred]))        "
   ]
  },
  {
   "cell_type": "raw",
   "metadata": {
    "scrolled": true
   },
   "source": [
    "#for i in range(0, len(y_pred)):\n",
    "for i in range(0, 10):\n",
    "    print_prediction(i)"
   ]
  },
  {
   "cell_type": "code",
   "execution_count": null,
   "metadata": {},
   "outputs": [],
   "source": [
    "len(y_pred) # Number of sentences in prediction / test set\n",
    "\n",
    "def get_results(i):\n",
    "    words_value = []\n",
    "    tags_true = []\n",
    "    tags_pred = []\n",
    "    p = np.argmax(y_pred[i], axis=-1)\n",
    "    #print(\"{:15}||{:5}||{}\".format(\"Word\", \"True\", \"Pred\"))\n",
    "    #print(30 * \"=\")\n",
    "\n",
    "    for w, t, pred in zip(X_word_te[i], y_te[i], p):\n",
    "        if w != 0:\n",
    "            #print(\"{:15}: {:5} {}\".format(idx2word[w], idx2tag[t], idx2tag[pred]))\n",
    "            words_value.append(idx2word[w])\n",
    "            tags_true.append(idx2tag[t])\n",
    "            tags_pred.append(idx2tag[pred])\n",
    "            \n",
    "    return words_value, tags_true, tags_pred"
   ]
  },
  {
   "cell_type": "code",
   "execution_count": null,
   "metadata": {},
   "outputs": [],
   "source": [
    "#for i in range(0, len(y_pred)):\n",
    "words_tagged = []\n",
    "labels_true = []\n",
    "labels_predicted = []\n",
    "\n",
    "for i in range(0, len(y_pred)):\n",
    "    words_value, tags_true, tags_pred = get_results(i)\n",
    "    words_tagged.extend(words_value)\n",
    "    labels_true.extend(tags_true)\n",
    "    labels_predicted.extend(tags_pred)"
   ]
  },
  {
   "cell_type": "code",
   "execution_count": null,
   "metadata": {},
   "outputs": [],
   "source": [
    "from seqeval.metrics import precision_score, recall_score, f1_score, classification_report\n",
    "\n",
    "print(len(labels_true))\n",
    "#print(y_te[0])\n",
    "\n",
    "print(len(labels_predicted))\n",
    "#print(y_pred[0])\n",
    "\n",
    "#print(classification_report(labels_true, labels_predicted))\n",
    "print(classification_report(labels_true, labels_predicted, digits=4))"
   ]
  },
  {
   "cell_type": "code",
   "execution_count": null,
   "metadata": {},
   "outputs": [],
   "source": [
    "print(labels_true[:20])\n",
    "print(labels_predicted[:20])"
   ]
  },
  {
   "cell_type": "markdown",
   "metadata": {},
   "source": [
    "# TEST SET\n",
    "## Manually annotated dataset for model evaluation"
   ]
  },
  {
   "cell_type": "code",
   "execution_count": null,
   "metadata": {},
   "outputs": [],
   "source": [
    "# Get the word ids for each sentence\n",
    "test_X_word = [[word2idx[w[0]] for w in s] for s in test_sentences]\n",
    "\n",
    "# Pad the sentences\n",
    "test_X_word = pad_sequences(maxlen=max_len, sequences=test_X_word, value=word2idx[\"PAD\"], padding='post', truncating='post')\n",
    "\n",
    "test_X_char = []\n",
    "for sentence in test_sentences:\n",
    "    sent_seq = []\n",
    "    for i in range(max_len):\n",
    "        word_seq = []\n",
    "        for j in range(max_len_char):\n",
    "            try:\n",
    "                word_seq.append(char2idx.get(sentence[i][0][j]))\n",
    "            except:\n",
    "                word_seq.append(char2idx.get(\"PAD\"))\n",
    "        sent_seq.append(word_seq)\n",
    "    test_X_char.append(np.array(sent_seq))\n",
    "    \n",
    "# Map tags to a sequence numbers and the pad\n",
    "test_y = [[tag2idx[w[1]] for w in s] for s in test_sentences]\n",
    "print(y[0])\n",
    "\n",
    "test_y = pad_sequences(maxlen=max_len, sequences=test_y, value=tag2idx[\"PAD\"], padding='post', truncating='post')\n",
    "print(test_y[0])\n",
    "\n",
    "print('Test set word shape = ', test_X_word.shape)\n",
    "print('Test set character length = ', len(test_X_char))\n",
    "print('Test set labels length = ', len(test_y))"
   ]
  },
  {
   "cell_type": "code",
   "execution_count": null,
   "metadata": {},
   "outputs": [],
   "source": [
    "# Predict the labels on the manually created TEST SET\n",
    "test_y_pred = model.predict([test_X_word, np.array(test_X_char).reshape((len(test_X_char), max_len, max_len_char))])\n",
    "len(test_y_pred) # Number of sentences in prediction / test set"
   ]
  },
  {
   "cell_type": "code",
   "execution_count": null,
   "metadata": {},
   "outputs": [],
   "source": [
    "def get_test_results(i):\n",
    "    words_value = []\n",
    "    tags_true = []\n",
    "    tags_pred = []\n",
    "    p = np.argmax(test_y_pred[i], axis=-1)\n",
    "    #print(\"{:15}||{:5}||{}\".format(\"Word\", \"True\", \"Pred\"))\n",
    "    #print(30 * \"=\")\n",
    "\n",
    "    for w, t, pred in zip(test_X_word[i], test_y[i], p):\n",
    "        if w != 0:\n",
    "            #print(\"{:15}: {:5} {}\".format(idx2word[w], idx2tag[t], idx2tag[pred]))\n",
    "            words_value.append(idx2word[w])\n",
    "            tags_true.append(idx2tag[t])\n",
    "            tags_pred.append(idx2tag[pred])\n",
    "            \n",
    "    return words_value, tags_true, tags_pred\n",
    "\n",
    "words_tagged = []\n",
    "labels_true = []\n",
    "labels_predicted = []\n",
    "\n",
    "for i in range(0, len(test_y_pred)):\n",
    "    words_value, tags_true, tags_pred = get_test_results(i)\n",
    "    words_tagged.extend(words_value)\n",
    "    labels_true.extend(tags_true)\n",
    "    labels_predicted.extend(tags_pred)\n",
    "    \n",
    "print(len(labels_true))\n",
    "#print(y_te[0])\n",
    "\n",
    "print(len(labels_predicted))\n",
    "#print(y_pred[0])\n",
    "\n",
    "#print(classification_report(labels_true, labels_predicted))\n",
    "print(classification_report(labels_true, labels_predicted, digits=4))"
   ]
  },
  {
   "cell_type": "code",
   "execution_count": null,
   "metadata": {},
   "outputs": [],
   "source": [
    "f = open(filename_result, 'w')\n",
    "f.write(\"Word, GroundTruth, Predicted\\n\")\n",
    "for i in range(0, len(test_y_pred)):    \n",
    "    p = np.argmax(test_y_pred[i], axis=-1)    \n",
    "    #print(40 * \"=\")\n",
    "\n",
    "    for w, t, pred in zip(test_X_word[i], test_y[i], p):\n",
    "        if w != 0:\n",
    "            #print(\"{:15} {:15} {}\".format(idx2word[w], idx2tag[t], idx2tag[pred]))  \n",
    "            f.write(idx2word[w] + ',' + idx2tag[t] + ',' + idx2tag[pred] + '\\n')\n",
    "f.close()\n",
    "#for i in range(0, 10):\n",
    "    #test_prediction(i)"
   ]
  },
  {
   "cell_type": "code",
   "execution_count": null,
   "metadata": {},
   "outputs": [],
   "source": [
    "def test_prediction(i):    \n",
    "    p = np.argmax(test_y_pred[i], axis=-1)\n",
    "    print(\"{:15}|{:15}|{}\".format(\"Word\", \"GroundTruth\", \"Predicted\"))\n",
    "    print(40 * \"=\")\n",
    "\n",
    "    for w, t, pred in zip(test_X_word[i], test_y[i], p):\n",
    "        if w != 0:\n",
    "            print(\"{:15} {:15} {}\".format(idx2word[w], idx2tag[t], idx2tag[pred]))  "
   ]
  },
  {
   "cell_type": "raw",
   "metadata": {},
   "source": [
    "c = 0\n",
    "for s in test_sentences:\n",
    "    for w in s:\n",
    "        c += 1\n",
    "        print(c, w, tag2idx[w[1]])"
   ]
  },
  {
   "cell_type": "code",
   "execution_count": null,
   "metadata": {},
   "outputs": [],
   "source": []
  },
  {
   "cell_type": "raw",
   "metadata": {},
   "source": [
    "!pip install seqeval"
   ]
  },
  {
   "cell_type": "raw",
   "metadata": {},
   "source": [
    "#word2idx.keys()\n",
    "word2idx.values()"
   ]
  },
  {
   "cell_type": "raw",
   "metadata": {},
   "source": [
    "X_char = []\n",
    "sentence = [‘Geographical’]\n",
    "max_len = 3\n",
    "max_len_char = 20\n",
    "\n",
    "for i in range(max_len):\n",
    "word_seq = []\n",
    "for j in range(max_len_char):\n",
    "try:\n",
    "word_seq.append(char2idx.get(sentence[i][j]))\n",
    "except:\n",
    "word_seq.append(char2idx.get(“PAD”))\n",
    "X_char.append(word_seq)\n",
    "\n",
    "X_char = [np.array(X_char)]\n",
    "X_word = [[word2idx[s] if s in word2idx.keys() else word2idx[‘UNK’] for s in sentence]]\n",
    "X_word = pad_sequences(maxlen=max_len, sequences=X_word, value=word2idx[“PAD”], padding=’post’, truncating=’post’)\n",
    "X_word = np.array(X_word)\n",
    "y_pred = model.predict([X_word, np.array(X_char).reshape((len(X_char), max_len, max_len_char))])\n",
    "p = np.argmax(y_pred[0], axis=-1)\n",
    "\n",
    "for pred in p:\n",
    "print(idx2tag[pred])"
   ]
  }
 ],
 "metadata": {
  "kernelspec": {
   "display_name": "Python 3",
   "language": "python",
   "name": "python3"
  },
  "language_info": {
   "codemirror_mode": {
    "name": "ipython",
    "version": 3
   },
   "file_extension": ".py",
   "mimetype": "text/x-python",
   "name": "python",
   "nbconvert_exporter": "python",
   "pygments_lexer": "ipython3",
   "version": "3.7.3"
  }
 },
 "nbformat": 4,
 "nbformat_minor": 2
}
