{
 "cells": [
  {
   "cell_type": "markdown",
   "metadata": {},
   "source": [
    "# Sequence Tagging: Bidirectional LSTM + CRF\n",
    "Source: https://www.depends-on-the-definition.com/sequence-tagging-lstm-crf/"
   ]
  },
  {
   "cell_type": "code",
   "execution_count": 7,
   "metadata": {},
   "outputs": [
    {
     "name": "stdout",
     "output_type": "stream",
     "text": [
      "     id                                               text meta  \\\n",
      "0  1846  \"Abhishek Jha Application Development Associat...   {}   \n",
      "1  1847  \"Afreen Jamadar Active member of IIIT Committe...   {}   \n",
      "2  1848  \"Akhil Yadav Polemaina Hyderabad, Telangana - ...   {}   \n",
      "3  1849  \"Alok Khandai Operational Analyst (SQL DBA) En...   {}   \n",
      "4  1850  \"Ananya Chavan lecturer - oracle tutorials  Mu...   {}   \n",
      "5  1851  \"Anvitha Rao Automation developer  - Email me ...   {}   \n",
      "6  1852  \"arjun ks Senior Program coordinator - oracle ...   {}   \n",
      "7  1853  \"Arun Elumalai QA Tester  Chennai, Tamil Nadu ...   {}   \n",
      "8  1854  \"Ashalata Bisoyi Transaction Processor - Oracl...   {}   \n",
      "9  1855  \"Ashok Kunam Team Lead - Microsoft  - Email me...   {}   \n",
      "\n",
      "   annotation_approver                                             labels  \n",
      "0                  NaN  [[994, 995, Skills], [1016, 1024, Skills], [10...  \n",
      "1                  NaN  [[744, 752, Skills], [773, 777, Skills], [797,...  \n",
      "2                  NaN  [[3469, 3479, Skills], [3490, 3499, Skills], [...  \n",
      "3                  NaN  [[8373, 8374, Skills], [8376, 8379, Skills], [...  \n",
      "4                  NaN  [[1163, 1164, Skills], [1166, 1169, Skills], [...  \n",
      "5                  NaN  [[2769, 2770, Skills], [2772, 2775, Skills], [...  \n",
      "6                  NaN  [[5284, 5288, Skills], [5053, 5064, Skills], [...  \n",
      "7                  NaN  [[731, 740, Skills], [1043, 1051, Skills], [16...  \n",
      "8                  NaN         [[1711, 1722, Skills], [633, 641, Skills]]  \n",
      "9                  NaN  [[548, 552, Skills], [554, 558, Skills], [560,...  \n",
      "[1624, 1242, 4266, 8388, 2951, 2933, 5800, 2085, 1723, 4962, 659, 2481, 1594, 2112, 1615, 2008, 12269, 4711, 2472, 6545, 1847, 5205, 2575, 4852, 2175, 1737, 5516, 3073, 2189, 8045, 3257, 4401, 2298, 1875, 1880, 1593, 3587, 1340, 7601, 3530, 4890, 3980, 6075, 7260, 3009, 2350, 2406, 966, 3316, 3613, 3136, 4036, 2726, 1562, 13913, 3898, 3481, 4272, 1224, 4192, 4434, 5485, 3260, 4628, 4351, 4045, 2152, 2919, 3266, 3018, 12601, 5143, 350, 6163, 1205, 5955, 7332, 6199, 12493, 2637, 4195, 5579, 2233, 2646, 1912, 4372, 4561, 2095, 5046, 15784, 2494, 6279, 5063, 7952, 3880, 2641, 390, 949, 6342, 5752, 8488, 19685, 3811, 7694, 348, 958, 1000, 1337, 3527, 1217, 350, 4995, 4044, 927, 20145, 3418, 1300, 379, 3626, 902, 8595, 3373, 722, 452, 3092, 496, 2569, 490, 1107, 723, 3007, 1884, 8708, 1266, 656, 872, 406, 6549, 4376, 611, 1891, 450, 5109, 466, 3107, 638, 616, 1671, 1012, 535, 370, 2603, 2762, 4696, 8227, 1502, 6066, 1940, 6088, 1077, 4969, 1320, 6862, 2251, 4810, 7942, 12647, 7989, 1618, 6024, 2599, 3941, 454, 3176, 2590, 3322, 7551, 3219, 3960, 1101, 2012, 1838, 469, 2538, 3739, 4183, 1081, 3135, 1309, 4052, 4006, 3016, 2361, 4018, 643, 15670, 9020, 1367, 969, 2315, 371, 1177, 1902, 1408, 1392, 7940, 1212, 6335, 1603, 1023, 662, 2200, 1089, 2099, 6641, 699, 8439, 1482, 10166, 1957]\n",
      "20145\n"
     ]
    }
   ],
   "source": [
    "import glob, os, csv, sys\n",
    "import pandas as pd\n",
    "import numpy as np\n",
    "import matplotlib.pyplot as plt\n",
    "plt.style.use('ggplot')\n",
    "\n",
    "filename = 'data/ner.json1'\n",
    "\n",
    "# Reading data\n",
    "df_data = pd.read_json(filename, lines=True)\n",
    "print(df_data.head(10))\n",
    "\n",
    "\n",
    "#pd.DataFrame([(e.text, e.ent_iob_, e.ent_type_) for e in doc])\n",
    "\n",
    "lengths = []\n",
    "max_l = 0\n",
    "for i,r in df_data.iterrows():\n",
    "    #print(r['text'], r['labels'])    \n",
    "    lengths.append(len(r['text']))\n",
    "    if max_l < len(r['text']):\n",
    "        max_l = len(r['text'])\n",
    "print(lengths)\n",
    "print(max_l)"
   ]
  },
  {
   "cell_type": "code",
   "execution_count": 12,
   "metadata": {},
   "outputs": [
    {
     "name": "stdout",
     "output_type": "stream",
     "text": [
      "Number of unique words in all data:  19245\n",
      "\n",
      "Number of unique tags:  2\n",
      "['O', 'SKILL']\n",
      "19245\n",
      "['C#.Net', 'believes', 'inclusion', 'This', '2600', 'basically', 'given:', 'Anantapur,', 'CA', 'VirtualBox']\n"
     ]
    }
   ],
   "source": [
    "# Word dictionary\n",
    "words = list(set(words))\n",
    "words.append(\"ENDPAD\")\n",
    "\n",
    "n_words = len(words) # unique words\n",
    "print(\"Number of unique words in all data: \", n_words)\n",
    "\n",
    "tags = ['O', 'SKILL']\n",
    "n_tags = len(tags)\n",
    "print(\"\\nNumber of unique tags: \", n_tags)\n",
    "print(tags)\n",
    "\n",
    "print(len(words))\n",
    "print(words[:10])"
   ]
  },
  {
   "cell_type": "markdown",
   "metadata": {},
   "source": [
    "### To encode the character-level information, we will use character embeddings and a LSTM to encode every word to an vector.\n",
    "We can use anyything that produces a single vector for a sequence of characters that represent a word. (a max-pooling architecture or a CNN)\n",
    "\n",
    "Then we feed the vector to another LSTM together with the learned word embedding."
   ]
  },
  {
   "cell_type": "code",
   "execution_count": 14,
   "metadata": {},
   "outputs": [
    {
     "name": "stdout",
     "output_type": "stream",
     "text": [
      "10\n",
      "1\n"
     ]
    }
   ],
   "source": [
    "max_len = 20145 # 100\n",
    "\n",
    "word2idx = {w: i + 1 for i, w in enumerate(words)}\n",
    "tag2idx = {t: i for i, t in enumerate(tags)}\n",
    "\n",
    "print(word2idx[\"VirtualBox\"]) # id=3818\n",
    "print(tag2idx[\"SKILL\"]) # id = 9"
   ]
  },
  {
   "cell_type": "code",
   "execution_count": 15,
   "metadata": {},
   "outputs": [
    {
     "ename": "KeyError",
     "evalue": "'\"'",
     "output_type": "error",
     "traceback": [
      "\u001b[0;31m---------------------------------------------------------------------------\u001b[0m",
      "\u001b[0;31mKeyError\u001b[0m                                  Traceback (most recent call last)",
      "\u001b[0;32m<ipython-input-15-d72dced98056>\u001b[0m in \u001b[0;36m<module>\u001b[0;34m\u001b[0m\n\u001b[1;32m      5\u001b[0m \u001b[0;32mfrom\u001b[0m \u001b[0mkeras\u001b[0m\u001b[0;34m.\u001b[0m\u001b[0mpreprocessing\u001b[0m\u001b[0;34m.\u001b[0m\u001b[0msequence\u001b[0m \u001b[0;32mimport\u001b[0m \u001b[0mpad_sequences\u001b[0m\u001b[0;34m\u001b[0m\u001b[0;34m\u001b[0m\u001b[0m\n\u001b[1;32m      6\u001b[0m \u001b[0;34m\u001b[0m\u001b[0m\n\u001b[0;32m----> 7\u001b[0;31m \u001b[0mX\u001b[0m \u001b[0;34m=\u001b[0m \u001b[0;34m[\u001b[0m\u001b[0;34m[\u001b[0m\u001b[0mword2idx\u001b[0m\u001b[0;34m[\u001b[0m\u001b[0mw\u001b[0m\u001b[0;34m[\u001b[0m\u001b[0;36m0\u001b[0m\u001b[0;34m]\u001b[0m\u001b[0;34m]\u001b[0m \u001b[0;32mfor\u001b[0m \u001b[0mw\u001b[0m \u001b[0;32min\u001b[0m \u001b[0ms\u001b[0m\u001b[0;34m]\u001b[0m \u001b[0;32mfor\u001b[0m \u001b[0ms\u001b[0m \u001b[0;32min\u001b[0m \u001b[0mtrain_sentences\u001b[0m\u001b[0;34m]\u001b[0m\u001b[0;34m\u001b[0m\u001b[0;34m\u001b[0m\u001b[0m\n\u001b[0m\u001b[1;32m      8\u001b[0m \u001b[0;34m\u001b[0m\u001b[0m\n\u001b[1;32m      9\u001b[0m \u001b[0;31m# Pad the sentences\u001b[0m\u001b[0;34m\u001b[0m\u001b[0;34m\u001b[0m\u001b[0;34m\u001b[0m\u001b[0m\n",
      "\u001b[0;32m<ipython-input-15-d72dced98056>\u001b[0m in \u001b[0;36m<listcomp>\u001b[0;34m(.0)\u001b[0m\n\u001b[1;32m      5\u001b[0m \u001b[0;32mfrom\u001b[0m \u001b[0mkeras\u001b[0m\u001b[0;34m.\u001b[0m\u001b[0mpreprocessing\u001b[0m\u001b[0;34m.\u001b[0m\u001b[0msequence\u001b[0m \u001b[0;32mimport\u001b[0m \u001b[0mpad_sequences\u001b[0m\u001b[0;34m\u001b[0m\u001b[0;34m\u001b[0m\u001b[0m\n\u001b[1;32m      6\u001b[0m \u001b[0;34m\u001b[0m\u001b[0m\n\u001b[0;32m----> 7\u001b[0;31m \u001b[0mX\u001b[0m \u001b[0;34m=\u001b[0m \u001b[0;34m[\u001b[0m\u001b[0;34m[\u001b[0m\u001b[0mword2idx\u001b[0m\u001b[0;34m[\u001b[0m\u001b[0mw\u001b[0m\u001b[0;34m[\u001b[0m\u001b[0;36m0\u001b[0m\u001b[0;34m]\u001b[0m\u001b[0;34m]\u001b[0m \u001b[0;32mfor\u001b[0m \u001b[0mw\u001b[0m \u001b[0;32min\u001b[0m \u001b[0ms\u001b[0m\u001b[0;34m]\u001b[0m \u001b[0;32mfor\u001b[0m \u001b[0ms\u001b[0m \u001b[0;32min\u001b[0m \u001b[0mtrain_sentences\u001b[0m\u001b[0;34m]\u001b[0m\u001b[0;34m\u001b[0m\u001b[0;34m\u001b[0m\u001b[0m\n\u001b[0m\u001b[1;32m      8\u001b[0m \u001b[0;34m\u001b[0m\u001b[0m\n\u001b[1;32m      9\u001b[0m \u001b[0;31m# Pad the sentences\u001b[0m\u001b[0;34m\u001b[0m\u001b[0;34m\u001b[0m\u001b[0;34m\u001b[0m\u001b[0m\n",
      "\u001b[0;32m<ipython-input-15-d72dced98056>\u001b[0m in \u001b[0;36m<listcomp>\u001b[0;34m(.0)\u001b[0m\n\u001b[1;32m      5\u001b[0m \u001b[0;32mfrom\u001b[0m \u001b[0mkeras\u001b[0m\u001b[0;34m.\u001b[0m\u001b[0mpreprocessing\u001b[0m\u001b[0;34m.\u001b[0m\u001b[0msequence\u001b[0m \u001b[0;32mimport\u001b[0m \u001b[0mpad_sequences\u001b[0m\u001b[0;34m\u001b[0m\u001b[0;34m\u001b[0m\u001b[0m\n\u001b[1;32m      6\u001b[0m \u001b[0;34m\u001b[0m\u001b[0m\n\u001b[0;32m----> 7\u001b[0;31m \u001b[0mX\u001b[0m \u001b[0;34m=\u001b[0m \u001b[0;34m[\u001b[0m\u001b[0;34m[\u001b[0m\u001b[0mword2idx\u001b[0m\u001b[0;34m[\u001b[0m\u001b[0mw\u001b[0m\u001b[0;34m[\u001b[0m\u001b[0;36m0\u001b[0m\u001b[0;34m]\u001b[0m\u001b[0;34m]\u001b[0m \u001b[0;32mfor\u001b[0m \u001b[0mw\u001b[0m \u001b[0;32min\u001b[0m \u001b[0ms\u001b[0m\u001b[0;34m]\u001b[0m \u001b[0;32mfor\u001b[0m \u001b[0ms\u001b[0m \u001b[0;32min\u001b[0m \u001b[0mtrain_sentences\u001b[0m\u001b[0;34m]\u001b[0m\u001b[0;34m\u001b[0m\u001b[0;34m\u001b[0m\u001b[0m\n\u001b[0m\u001b[1;32m      8\u001b[0m \u001b[0;34m\u001b[0m\u001b[0m\n\u001b[1;32m      9\u001b[0m \u001b[0;31m# Pad the sentences\u001b[0m\u001b[0;34m\u001b[0m\u001b[0;34m\u001b[0m\u001b[0;34m\u001b[0m\u001b[0m\n",
      "\u001b[0;31mKeyError\u001b[0m: '\"'"
     ]
    }
   ],
   "source": [
    "# Map the senctences to a sequence of numbers and then pad the sequence\n",
    "# We increased the index of the words by one to use zero as a padding value, \n",
    "# because we want to use the mask_zero parameter of the embedding layer to ignore inputs with value zero\n",
    "\n",
    "from keras.preprocessing.sequence import pad_sequences\n",
    "\n",
    "X = [[word2idx[w[0]] for w in s] for s in train_sentences]\n",
    "\n",
    "# Pad the sentences\n",
    "X = pad_sequences(maxlen=max_len, sequences=X, padding=\"post\", value=n_words-1)\n",
    "\n",
    "y = [[tag2idx[w[1]] for w in s] for s in train_sentences]\n",
    "y = pad_sequences(maxlen=max_len, sequences=y, padding=\"post\", value=tag2idx[\"O\"])"
   ]
  },
  {
   "cell_type": "code",
   "execution_count": 6,
   "metadata": {},
   "outputs": [
    {
     "name": "stdout",
     "output_type": "stream",
     "text": [
      "[12155  4770 17731 17748 19160 22125  9297 12766 10318  6470  7254 15550\n",
      " 21959 14320  7254  4173 21977 25047 11621  3647  3763 25390 25390 25390\n",
      " 25390 25390 25390 25390 25390 25390 25390 25390 25390 25390 25390 25390\n",
      " 25390 25390 25390 25390 25390 25390 25390 25390 25390 25390 25390 25390\n",
      " 25390 25390 25390 25390 25390 25390 25390 25390 25390 25390 25390 25390\n",
      " 25390 25390 25390 25390 25390 25390 25390 25390 25390 25390 25390 25390\n",
      " 25390 25390 25390 25390 25390 25390 25390 25390 25390 25390 25390 25390\n",
      " 25390 25390 25390 25390 25390 25390 25390 25390 25390 25390 25390 25390\n",
      " 25390 25390 25390 25390]\n",
      "[11  1 11 11 11 11 11 11  5 12 12 11 11  5 12 11 11 11  5 12 11 11 11 11\n",
      " 11 11 11 11 11 11 11 11 11 11 11 11 11 11 11 11 11 11 11 11 11 11 11 11\n",
      " 11 11 11 11 11 11 11 11 11 11 11 11 11 11 11 11 11 11 11 11 11 11 11 11\n",
      " 11 11 11 11 11 11 11 11 11 11 11 11 11 11 11 11 11 11 11 11 11 11 11 11\n",
      " 11 11 11 11]\n"
     ]
    }
   ],
   "source": [
    "#words[0] = 'NaN'\n",
    "#words[:10]\n",
    "print(X[0])\n",
    "print(y[0])"
   ]
  },
  {
   "cell_type": "code",
   "execution_count": 7,
   "metadata": {},
   "outputs": [
    {
     "name": "stdout",
     "output_type": "stream",
     "text": [
      "[12155  4770 17731 17748 19160 22125  9297 12766 10318  6470  7254 15550\n",
      " 21959 14320  7254  4173 21977 25047 11621  3647  3763 25390 25390 25390\n",
      " 25390 25390 25390 25390 25390 25390 25390 25390 25390 25390 25390 25390\n",
      " 25390 25390 25390 25390 25390 25390 25390 25390 25390 25390 25390 25390\n",
      " 25390 25390 25390 25390 25390 25390 25390 25390 25390 25390 25390 25390\n",
      " 25390 25390 25390 25390 25390 25390 25390 25390 25390 25390 25390 25390\n",
      " 25390 25390 25390 25390 25390 25390 25390 25390 25390 25390 25390 25390\n",
      " 25390 25390 25390 25390 25390 25390 25390 25390 25390 25390 25390 25390\n",
      " 25390 25390 25390 25390]\n",
      "[[0. 0. 0. ... 0. 1. 0.]\n",
      " [0. 1. 0. ... 0. 0. 0.]\n",
      " [0. 0. 0. ... 0. 1. 0.]\n",
      " ...\n",
      " [0. 0. 0. ... 0. 1. 0.]\n",
      " [0. 0. 0. ... 0. 1. 0.]\n",
      " [0. 0. 0. ... 0. 1. 0.]]\n"
     ]
    }
   ],
   "source": [
    "from keras.utils import to_categorical # Converts a class vector (integers) to binary class matrix.\n",
    "\n",
    "y = [to_categorical(i, num_classes=n_tags) for i in y]\n",
    "\n",
    "print(X[0])\n",
    "print(y[0])"
   ]
  },
  {
   "cell_type": "code",
   "execution_count": 8,
   "metadata": {},
   "outputs": [],
   "source": [
    "# We split in train and test set.\n",
    "from sklearn.model_selection import train_test_split\n",
    "\n",
    "X_tr, X_te, y_tr, y_te = train_test_split(X, y, test_size=0.2)"
   ]
  },
  {
   "cell_type": "code",
   "execution_count": 9,
   "metadata": {},
   "outputs": [
    {
     "name": "stdout",
     "output_type": "stream",
     "text": [
      "(25450, 100)\n",
      "25450\n",
      "(6363, 100)\n",
      "6363\n"
     ]
    }
   ],
   "source": [
    "print(X_tr.shape)\n",
    "print(len(y_tr))\n",
    "print(X_te.shape)\n",
    "print(len(y_te))"
   ]
  },
  {
   "cell_type": "raw",
   "metadata": {},
   "source": [
    "!pip install git+https://www.github.com/keras-team/keras-contrib.git"
   ]
  },
  {
   "cell_type": "code",
   "execution_count": 10,
   "metadata": {},
   "outputs": [],
   "source": [
    "# Now we can fit a LSTM-CRF network with an embedding layer.\n",
    "from keras.models import Model, Input\n",
    "from keras.layers import LSTM, Embedding, Dense, TimeDistributed, Dropout, Bidirectional\n",
    "from keras_contrib.layers import CRF\n",
    "from keras.utils import plot_model"
   ]
  },
  {
   "cell_type": "markdown",
   "metadata": {},
   "source": [
    "### Fit a \"Bidirectional LSTM + CRF\" network with an embedding layer."
   ]
  },
  {
   "cell_type": "code",
   "execution_count": 11,
   "metadata": {},
   "outputs": [],
   "source": [
    "input = Input(shape=(max_len,))\n",
    "\n",
    "#model = Embedding(input_dim=n_words + 1, output_dim=20, input_length=max_len, mask_zero=True)(input)  # 20-dim embedding\n",
    "model = Embedding(input_dim=n_words + 1, output_dim=64, input_length=max_len, mask_zero=True)(input)  # 64-dim embedding\n",
    "\n",
    "# ????\n",
    "#model = Bidirectional(LSTM(units=100, return_sequences=True, recurrent_dropout=0.5))(model)  # variational biLSTM\n",
    "model = Bidirectional(LSTM(units=100, return_sequences=True, recurrent_dropout=0.1))(model)  # variational biLSTM\n",
    "\n",
    "model = TimeDistributed(Dense(100, activation=\"relu\"))(model)  # a dense layer as suggested by neuralNer\n",
    "\n",
    "crf = CRF(n_tags)  # CRF layer\n",
    "\n",
    "out = crf(model)  # output"
   ]
  },
  {
   "cell_type": "code",
   "execution_count": 12,
   "metadata": {},
   "outputs": [
    {
     "name": "stderr",
     "output_type": "stream",
     "text": [
      "/Users/majiga/anaconda3/lib/python3.6/site-packages/keras_contrib/layers/crf.py:346: UserWarning: CRF.loss_function is deprecated and it might be removed in the future. Please use losses.crf_loss instead.\n",
      "  warnings.warn('CRF.loss_function is deprecated '\n",
      "/Users/majiga/anaconda3/lib/python3.6/site-packages/keras_contrib/layers/crf.py:353: UserWarning: CRF.accuracy is deprecated and it might be removed in the future. Please use metrics.crf_accuracy\n",
      "  warnings.warn('CRF.accuracy is deprecated and it '\n"
     ]
    },
    {
     "name": "stdout",
     "output_type": "stream",
     "text": [
      "Model: \"model_1\"\n",
      "_________________________________________________________________\n",
      "Layer (type)                 Output Shape              Param #   \n",
      "=================================================================\n",
      "input_1 (InputLayer)         (None, 100)               0         \n",
      "_________________________________________________________________\n",
      "embedding_1 (Embedding)      (None, 100, 64)           1625088   \n",
      "_________________________________________________________________\n",
      "bidirectional_1 (Bidirection (None, 100, 200)          132000    \n",
      "_________________________________________________________________\n",
      "time_distributed_1 (TimeDist (None, 100, 100)          20100     \n",
      "_________________________________________________________________\n",
      "crf_1 (CRF)                  (None, 100, 13)           1508      \n",
      "=================================================================\n",
      "Total params: 1,778,696\n",
      "Trainable params: 1,778,696\n",
      "Non-trainable params: 0\n",
      "_________________________________________________________________\n"
     ]
    },
    {
     "data": {
      "image/png": "[encoded data removed]",
      "text/plain": [
       "<IPython.core.display.Image object>"
      ]
     },
     "execution_count": 12,
     "metadata": {},
     "output_type": "execute_result"
    }
   ],
   "source": [
    "model = Model(input, out)\n",
    "\n",
    "model.compile(optimizer=\"rmsprop\", loss=crf.loss_function, metrics=[crf.accuracy])\n",
    "\n",
    "model.summary()\n",
    "plot_model(model, to_file='model1_CRF.png', show_shapes=True, show_layer_names=True)"
   ]
  },
  {
   "cell_type": "code",
   "execution_count": 13,
   "metadata": {
    "scrolled": true
   },
   "outputs": [
    {
     "name": "stdout",
     "output_type": "stream",
     "text": [
      "Train on 20360 samples, validate on 5090 samples\n",
      "Epoch 1/20\n",
      " - 135s - loss: 0.0747 - crf_viterbi_accuracy: 0.9800 - val_loss: 0.0209 - val_crf_viterbi_accuracy: 0.9932\n",
      "Epoch 2/20\n",
      " - 134s - loss: 0.0121 - crf_viterbi_accuracy: 0.9958 - val_loss: 0.0119 - val_crf_viterbi_accuracy: 0.9958\n",
      "Epoch 3/20\n",
      " - 136s - loss: 0.0064 - crf_viterbi_accuracy: 0.9976 - val_loss: 0.0072 - val_crf_viterbi_accuracy: 0.9973\n",
      "Epoch 4/20\n",
      " - 138s - loss: 0.0042 - crf_viterbi_accuracy: 0.9984 - val_loss: 0.0058 - val_crf_viterbi_accuracy: 0.9978\n",
      "Epoch 5/20\n",
      " - 140s - loss: 0.0031 - crf_viterbi_accuracy: 0.9987 - val_loss: 0.0048 - val_crf_viterbi_accuracy: 0.9980\n",
      "Epoch 6/20\n",
      " - 144s - loss: 0.0023 - crf_viterbi_accuracy: 0.9990 - val_loss: 0.0040 - val_crf_viterbi_accuracy: 0.9984\n",
      "Epoch 7/20\n",
      " - 139s - loss: 0.0018 - crf_viterbi_accuracy: 0.9992 - val_loss: 0.0041 - val_crf_viterbi_accuracy: 0.9983\n",
      "Epoch 8/20\n",
      " - 140s - loss: 0.0014 - crf_viterbi_accuracy: 0.9994 - val_loss: 0.0038 - val_crf_viterbi_accuracy: 0.9984\n",
      "Epoch 9/20\n",
      " - 137s - loss: 0.0011 - crf_viterbi_accuracy: 0.9995 - val_loss: 0.0043 - val_crf_viterbi_accuracy: 0.9983\n",
      "Epoch 10/20\n",
      " - 136s - loss: 8.2406e-04 - crf_viterbi_accuracy: 0.9996 - val_loss: 0.0039 - val_crf_viterbi_accuracy: 0.9984\n",
      "Epoch 11/20\n",
      " - 136s - loss: 6.2409e-04 - crf_viterbi_accuracy: 0.9997 - val_loss: 0.0039 - val_crf_viterbi_accuracy: 0.9986\n",
      "Epoch 12/20\n",
      " - 137s - loss: 4.8037e-04 - crf_viterbi_accuracy: 0.9998 - val_loss: 0.0039 - val_crf_viterbi_accuracy: 0.9987\n",
      "Epoch 13/20\n",
      " - 140s - loss: 3.8314e-04 - crf_viterbi_accuracy: 0.9998 - val_loss: 0.0042 - val_crf_viterbi_accuracy: 0.9986\n",
      "Epoch 14/20\n",
      " - 139s - loss: 2.6464e-04 - crf_viterbi_accuracy: 0.9999 - val_loss: 0.0044 - val_crf_viterbi_accuracy: 0.9986\n",
      "Epoch 15/20\n",
      " - 138s - loss: 2.0514e-04 - crf_viterbi_accuracy: 0.9999 - val_loss: 0.0047 - val_crf_viterbi_accuracy: 0.9987\n",
      "Epoch 16/20\n",
      " - 139s - loss: 1.4236e-04 - crf_viterbi_accuracy: 0.9999 - val_loss: 0.0047 - val_crf_viterbi_accuracy: 0.9987\n",
      "Epoch 17/20\n",
      " - 139s - loss: 1.0173e-04 - crf_viterbi_accuracy: 0.9999 - val_loss: 0.0053 - val_crf_viterbi_accuracy: 0.9986\n",
      "Epoch 18/20\n",
      " - 139s - loss: 8.7189e-05 - crf_viterbi_accuracy: 1.0000 - val_loss: 0.0054 - val_crf_viterbi_accuracy: 0.9986\n",
      "Epoch 19/20\n",
      " - 139s - loss: 5.1443e-05 - crf_viterbi_accuracy: 1.0000 - val_loss: 0.0056 - val_crf_viterbi_accuracy: 0.9988\n",
      "Epoch 20/20\n",
      " - 141s - loss: 4.0404e-05 - crf_viterbi_accuracy: 1.0000 - val_loss: 0.0058 - val_crf_viterbi_accuracy: 0.9987\n"
     ]
    }
   ],
   "source": [
    "history = model.fit(X_tr, np.array(y_tr), batch_size=32, epochs=20, validation_split=0.2, verbose=2)"
   ]
  },
  {
   "cell_type": "code",
   "execution_count": 14,
   "metadata": {},
   "outputs": [
    {
     "data": {
      "image/png": "[encoded data removed]",
      "text/plain": [
       "<Figure size 360x360 with 1 Axes>"
      ]
     },
     "metadata": {},
     "output_type": "display_data"
    },
    {
     "data": {
      "image/png": "[encoded data removed]",
      "text/plain": [
       "<Figure size 360x360 with 1 Axes>"
      ]
     },
     "metadata": {},
     "output_type": "display_data"
    }
   ],
   "source": [
    "hist = pd.DataFrame(history.history)\n",
    "\n",
    "import matplotlib.pyplot as plt\n",
    "plt.style.use(\"ggplot\")\n",
    "plt.figure(figsize=(5,5))\n",
    "plt.plot(hist[\"crf_viterbi_accuracy\"])\n",
    "plt.plot(hist[\"val_crf_viterbi_accuracy\"])\n",
    "\n",
    "plt.figure(figsize=(5,5))\n",
    "plt.plot(hist[\"loss\"])\n",
    "plt.plot(hist[\"val_loss\"])\n",
    "plt.show()"
   ]
  },
  {
   "cell_type": "code",
   "execution_count": 15,
   "metadata": {},
   "outputs": [],
   "source": [
    "from keras.models import load_model\n",
    "\n",
    "model.save(r'Files/model_WL_BiLSTM_CRF.h5')  # creates a HDF5 file 'my_model.h5'\n",
    "#del model  # deletes the existing model\n",
    "\n",
    "# returns a compiled model\n",
    "# identical to the previous one\n",
    "#model = load_model(r'/Users/majiga/Documents/wamex/datawamex_model.h5')"
   ]
  },
  {
   "cell_type": "code",
   "execution_count": 16,
   "metadata": {},
   "outputs": [],
   "source": [
    "from seqeval.metrics import precision_score, recall_score, f1_score, classification_report\n",
    "\n",
    "test_pred = model.predict(X_te, verbose=2)"
   ]
  },
  {
   "cell_type": "code",
   "execution_count": 17,
   "metadata": {},
   "outputs": [],
   "source": [
    "idx2tag = {i: w for w, i in tag2idx.items()}\n",
    "\n",
    "def pred2label(pred):\n",
    "    out = []\n",
    "    for pred_i in pred:\n",
    "        out_i = []\n",
    "        for p in pred_i:\n",
    "            p_i = np.argmax(p)\n",
    "            out_i.append(idx2tag[p_i].replace(\"PAD\", \"O\"))\n",
    "        out.append(out_i)\n",
    "    return out\n",
    "    \n",
    "pred_labels = pred2label(test_pred)\n",
    "test_labels = pred2label(y_te)"
   ]
  },
  {
   "cell_type": "code",
   "execution_count": 18,
   "metadata": {},
   "outputs": [
    {
     "name": "stdout",
     "output_type": "stream",
     "text": [
      "F1-score: 97.5%\n"
     ]
    }
   ],
   "source": [
    "print(\"F1-score: {:.1%}\".format(f1_score(test_labels, pred_labels)))"
   ]
  },
  {
   "cell_type": "code",
   "execution_count": 19,
   "metadata": {},
   "outputs": [
    {
     "name": "stdout",
     "output_type": "stream",
     "text": [
      "             precision    recall  f1-score   support\n",
      "\n",
      "    MINERAL     0.9882    0.9887    0.9884      4145\n",
      "   LOCATION     0.9770    0.9750    0.9760      3915\n",
      "       ROCK     0.9704    0.9696    0.9700      4837\n",
      "      STRAT     0.9263    0.9406    0.9334      1043\n",
      "ORE_DEPOSIT     0.9752    0.9737    0.9745       647\n",
      "  TIMESCALE     0.9946    0.9946    0.9946       552\n",
      "\n",
      "avg / total     0.9750    0.9753    0.9752     15139\n",
      "\n"
     ]
    }
   ],
   "source": [
    "print(classification_report(test_labels, pred_labels, digits=4))"
   ]
  },
  {
   "cell_type": "markdown",
   "metadata": {},
   "source": [
    "# Evaluation Set"
   ]
  },
  {
   "cell_type": "code",
   "execution_count": 20,
   "metadata": {},
   "outputs": [],
   "source": [
    "X_eval = [[word2idx[w[0]] for w in s] for s in test_sentences]\n",
    "\n",
    "# Pad the sentences\n",
    "X_eval = pad_sequences(maxlen=max_len, sequences=X_eval, padding=\"post\", value=n_words-1)\n",
    "\n",
    "y_eval = [[tag2idx[w[1]] for w in s] for s in test_sentences]\n",
    "y_eval = pad_sequences(maxlen=max_len, sequences=y_eval, padding=\"post\", value=tag2idx[\"O\"])"
   ]
  },
  {
   "cell_type": "code",
   "execution_count": 21,
   "metadata": {},
   "outputs": [],
   "source": [
    "y_eval = [to_categorical(i, num_classes=n_tags) for i in y_eval]"
   ]
  },
  {
   "cell_type": "code",
   "execution_count": 22,
   "metadata": {},
   "outputs": [],
   "source": [
    "y_eval_pred = model.predict(X_eval, verbose=2)"
   ]
  },
  {
   "cell_type": "code",
   "execution_count": 23,
   "metadata": {},
   "outputs": [
    {
     "name": "stdout",
     "output_type": "stream",
     "text": [
      "F1-score: 78.52%\n",
      "             precision    recall  f1-score   support\n",
      "\n",
      "      STRAT     0.8612    0.7150    0.7813       642\n",
      "       ROCK     0.7782    0.7819    0.7801      1894\n",
      "    MINERAL     0.7893    0.9183    0.8489      1297\n",
      "   LOCATION     0.6241    0.6899    0.6553      1006\n",
      "ORE_DEPOSIT     0.8795    0.8425    0.8606       381\n",
      "  TIMESCALE     0.9381    0.9381    0.9381       210\n",
      "\n",
      "avg / total     0.7754    0.7998    0.7853      5430\n",
      "\n"
     ]
    }
   ],
   "source": [
    "y_pred_labels = pred2label(y_eval_pred)\n",
    "y_labels = pred2label(y_eval)\n",
    "print(\"F1-score: {:.2%}\".format(f1_score(y_labels, y_pred_labels)))\n",
    "print(classification_report(y_labels, y_pred_labels, digits=4))"
   ]
  },
  {
   "cell_type": "code",
   "execution_count": 24,
   "metadata": {},
   "outputs": [
    {
     "name": "stdout",
     "output_type": "stream",
     "text": [
      "Python 3.6.6 :: Anaconda, Inc.\n"
     ]
    }
   ],
   "source": [
    "#import tensorflow\n",
    "!python --version"
   ]
  },
  {
   "cell_type": "code",
   "execution_count": null,
   "metadata": {},
   "outputs": [],
   "source": []
  }
 ],
 "metadata": {
  "kernelspec": {
   "display_name": "Python 3",
   "language": "python",
   "name": "python3"
  },
  "language_info": {
   "codemirror_mode": {
    "name": "ipython",
    "version": 3
   },
   "file_extension": ".py",
   "mimetype": "text/x-python",
   "name": "python",
   "nbconvert_exporter": "python",
   "pygments_lexer": "ipython3",
   "version": "3.8.3"
  }
 },
 "nbformat": 4,
 "nbformat_minor": 4
}
