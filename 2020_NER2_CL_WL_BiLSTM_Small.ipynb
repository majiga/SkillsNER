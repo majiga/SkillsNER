{
 "cells": [
  {
   "cell_type": "markdown",
   "metadata": {},
   "source": [
    "## Bidirectional LSTM + Character-level-embedding + CRF\n",
    "\n",
    "### Running on the small size data to prepare the training dataset\n",
    "\n",
    "https://www.depends-on-the-definition.com/lstm-with-char-embeddings-for-ner/\n",
    "\n",
    "Enhancing sequence tagging: Bidirectional LSTMs With Character Embeddings For Named Entity Recognition"
   ]
  },
  {
   "cell_type": "code",
   "execution_count": 1,
   "metadata": {},
   "outputs": [
    {
     "name": "stdout",
     "output_type": "stream",
     "text": [
      "33578\n",
      "Num words in training set =  26852\n"
     ]
    },
    {
     "data": {
      "text/plain": [
       "<Figure size 640x480 with 1 Axes>"
      ]
     },
     "metadata": {},
     "output_type": "display_data"
    }
   ],
   "source": [
    "import glob, os, csv, sys\n",
    "import pandas as pd\n",
    "import numpy as np\n",
    "import matplotlib.pyplot as plt\n",
    "plt.style.use('ggplot')\n",
    "\n",
    "# AUTO-LABELLED DATA SET = TRAIN SET + VALIDATION SET\n",
    "filename = r\"C:\\Users\\20230326\\1-2 OzROCK\\Files\\autolabelled_smallsize_dictionary_labelled.txt\"\n",
    "\n",
    "#filename = r\"C:\\Users\\20230326\\wamex\\data\\OzROCK_Labeled_Geological_Dataset.txt\"  # 480 files\n",
    "#data = pd.read_csv(filename, header = None, delimiter=\" \", na_values=['\\n'], quoting=csv.QUOTE_NONE, encoding='latin1', skip_blank_lines=True)\n",
    "#print(data.info())\n",
    "#print(data.head(10))\n",
    "\n",
    "#data = dataframes.where((pd.notnull(dataframes)), None)\n",
    "#data = data.fillna('')\n",
    "#data = data.replace(np.nan, '', regex=True)\n",
    "\n",
    "words = []\n",
    "tags = []\n",
    "train_sentences = []\n",
    "\n",
    "with open(filename, 'r') as file :\n",
    "    currSentence = []\n",
    "    lines = []\n",
    "    for line in file:\n",
    "        cols = line.split(\" \")\n",
    "        if line.strip() == '':\n",
    "            # Reset sentence            \n",
    "            train_sentences.append(currSentence)\n",
    "            currSentence = []\n",
    "        elif len(cols) > 2:\n",
    "            print(line)\n",
    "        else:\n",
    "            currSentence.append([cols[0].strip(), cols[1].strip()])\n",
    "            words.append(cols[0].strip())\n",
    "            tags.append(cols[1].strip())\n",
    "print(len(train_sentences)) # 18589; 160,343\n",
    "\n",
    "train_words = list(set(words))\n",
    "print('Num words in training set = ', len(train_words))\n",
    "\n",
    "train_sent_lengths = [len(s) for s in train_sentences]\n",
    "\n",
    "plt.hist(train_sent_lengths, density=1, bins=1000) # x value is bins\n",
    "plt.axis([0, 140, 0, 0.1])  # xmin,xmax,ymin,ymax\n",
    "plt.xlabel('Sentence Length')\n",
    "plt.ylabel('Percentage of sentences')\n",
    "\n",
    "plt.show()"
   ]
  },
  {
   "cell_type": "code",
   "execution_count": 3,
   "metadata": {
    "scrolled": true
   },
   "outputs": [
    {
     "name": "stdout",
     "output_type": "stream",
     "text": [
      "1797\n",
      "Num words in training + test sets =  5582\n"
     ]
    },
    {
     "data": {
      "image/png": "[encoded data removed]",
      "text/plain": [
       "<Figure size 432x288 with 1 Axes>"
      ]
     },
     "metadata": {
      "needs_background": "light"
     },
     "output_type": "display_data"
    }
   ],
   "source": [
    "# TEST DATA - manually annotated\n",
    "test_filename = r\"C:\\Users\\20230326\\1-2 OzROCK\\Files\\TestSet_March03.txt\" # TestSet_March02\n",
    "filename_result = r\"C:\\Users\\20230326\\1-2 OzROCK\\Files\\TestSet_trueTag_modelTag.txt\"\n",
    "\n",
    "#test_data = pd.read_csv(filename, header = None, delimiter=\" \", na_values=['\\n'], quoting=csv.QUOTE_NONE, encoding='latin1', skip_blank_lines=True)\n",
    "#print(test_data.info())\n",
    "#print(test_data.head(10))\n",
    "words = []\n",
    "test_sentences = []\n",
    "with open(test_filename, 'r') as file :\n",
    "    currSentence = []\n",
    "    lines = []\n",
    "    for line in file:\n",
    "        cols = line.split(\" \")\n",
    "        if line.strip() == '':\n",
    "            # Reset sentence            \n",
    "            test_sentences.append(currSentence)\n",
    "            currSentence = []\n",
    "        elif len(cols) > 2:\n",
    "            print(line)\n",
    "        else :\n",
    "            currSentence.append([cols[0].strip(), cols[1].strip()])            \n",
    "            words.append(cols[0].strip())\n",
    "                \n",
    "print(len(test_sentences)) # 18589; 160,343\n",
    "\n",
    "test_words = list(set(words))\n",
    "print('Num words in training + test sets = ', len(test_words))\n",
    "\n",
    "test_sent_lengths = [len(s) for s in test_sentences]\n",
    "\n",
    "plt.hist(test_sent_lengths, density=1, bins=1000) # x value is bins\n",
    "plt.axis([0, 140, 0, 0.1])  # xmin,xmax,ymin,ymax\n",
    "plt.xlabel('Sentence Length')\n",
    "plt.ylabel('Percentage of sentences')\n",
    "\n",
    "plt.show()"
   ]
  },
  {
   "cell_type": "code",
   "execution_count": 4,
   "metadata": {},
   "outputs": [
    {
     "name": "stdout",
     "output_type": "stream",
     "text": [
      "Number of unique words in all data:  29050\n",
      "\n",
      "Number of unique tags:  13\n",
      "['B-STRAT', 'B-ORE_DEPOSIT', 'O', 'B-ROCK', 'B-TIMESCALE', 'I-LOCATION', 'I-STRAT', 'B-LOCATION', 'I-TIMESCALE', 'I-ORE_DEPOSIT', 'I-ROCK', 'I-MINERAL', 'B-MINERAL']\n",
      "29050\n",
      "['since', 'trillbar_gradientenhanced_tmi_1vd.ecw', 'textu', 'muhling', '1,126', 'i12326', 'observations', 'fingernail', 'jpeg', 'c15']\n"
     ]
    }
   ],
   "source": [
    "# Word dictionary\n",
    "words = train_words + test_words\n",
    "words = list(set(words))\n",
    "words.append(\"ENDPAD\")\n",
    "\n",
    "n_words = len(words) # unique words\n",
    "print(\"Number of unique words in all data: \", n_words)\n",
    "\n",
    "tags = list(set(tags))\n",
    "n_tags = len(tags)\n",
    "print(\"\\nNumber of unique tags: \", n_tags)\n",
    "print(tags)\n",
    "\n",
    "print(len(words))\n",
    "print(words[:10])"
   ]
  },
  {
   "cell_type": "markdown",
   "metadata": {},
   "source": [
    "To encode the character-level information, we will use character embeddings and a LSTM to encode every word to an vector.\n",
    "We can use basically everything that produces a single vector for a sequence of characters that represent a word. You can also use a max-pooling architecture or a CNN or whatever works.\n",
    "Then we feed the vector to another LSTM together with the learned word embedding."
   ]
  },
  {
   "cell_type": "code",
   "execution_count": 5,
   "metadata": {},
   "outputs": [
    {
     "name": "stdout",
     "output_type": "stream",
     "text": [
      "5079\n",
      "4\n"
     ]
    }
   ],
   "source": [
    "# Create dictionaries of words and tags.\n",
    "word2idx = {w: i + 4 for i, w in enumerate(words)}\n",
    "word2idx[\"UNK\"] = 1\n",
    "word2idx[\"PAD\"] = 0\n",
    "word2idx[\"null\"] = 2\n",
    "word2idx[\"nan\"] = 3\n",
    "\n",
    "idx2word = {i: w for w, i in word2idx.items()}\n",
    "tag2idx = {t: i + 1 for i, t in enumerate(tags)}\n",
    "tag2idx[\"PAD\"] = 0\n",
    "idx2tag = {i: w for w, i in tag2idx.items()}\n",
    "\n",
    "print(word2idx[\"gold\"]) # id=3818\n",
    "print(tag2idx[\"B-ROCK\"]) # id = 9"
   ]
  },
  {
   "cell_type": "code",
   "execution_count": 6,
   "metadata": {},
   "outputs": [
    {
     "name": "stdout",
     "output_type": "stream",
     "text": [
      "2\n"
     ]
    }
   ],
   "source": [
    "print(word2idx[\"null\"]) # id=3818"
   ]
  },
  {
   "cell_type": "code",
   "execution_count": 7,
   "metadata": {},
   "outputs": [
    {
     "name": "stdout",
     "output_type": "stream",
     "text": [
      "Num words =  29053\n"
     ]
    }
   ],
   "source": [
    "max_len = 80 # length of each sentence\n",
    "\n",
    "#print(sentences[1])\n",
    "print('Num words = ', len(word2idx))\n",
    "\n",
    "X_word = [[word2idx[w[0]] for w in s] for s in train_sentences]\n",
    "#X_word = []\n",
    "#for s in sentences:\n",
    "#    for w in s:\n",
    "#        try:\n",
    "#            a = [word2idx[w[0]] for w in s]\n",
    "#            X_word.append(a)\n",
    "#        except KeyError as err:\n",
    "#            print('\\nException: ', sys.exc_info()[0], err, '\\n',\n",
    "#                  s, '\\n', w, a)\n",
    "#print(X_word[0:10])"
   ]
  },
  {
   "cell_type": "code",
   "execution_count": 8,
   "metadata": {},
   "outputs": [
    {
     "name": "stderr",
     "output_type": "stream",
     "text": [
      "Using TensorFlow backend.\n",
      "C:\\Users\\20230326\\AppData\\Local\\Continuum\\anaconda3\\lib\\site-packages\\tensorflow\\python\\framework\\dtypes.py:526: FutureWarning: Passing (type, 1) or '1type' as a synonym of type is deprecated; in a future version of numpy, it will be understood as (type, (1,)) / '(1,)type'.\n",
      "  _np_qint8 = np.dtype([(\"qint8\", np.int8, 1)])\n",
      "C:\\Users\\20230326\\AppData\\Local\\Continuum\\anaconda3\\lib\\site-packages\\tensorflow\\python\\framework\\dtypes.py:527: FutureWarning: Passing (type, 1) or '1type' as a synonym of type is deprecated; in a future version of numpy, it will be understood as (type, (1,)) / '(1,)type'.\n",
      "  _np_quint8 = np.dtype([(\"quint8\", np.uint8, 1)])\n",
      "C:\\Users\\20230326\\AppData\\Local\\Continuum\\anaconda3\\lib\\site-packages\\tensorflow\\python\\framework\\dtypes.py:528: FutureWarning: Passing (type, 1) or '1type' as a synonym of type is deprecated; in a future version of numpy, it will be understood as (type, (1,)) / '(1,)type'.\n",
      "  _np_qint16 = np.dtype([(\"qint16\", np.int16, 1)])\n",
      "C:\\Users\\20230326\\AppData\\Local\\Continuum\\anaconda3\\lib\\site-packages\\tensorflow\\python\\framework\\dtypes.py:529: FutureWarning: Passing (type, 1) or '1type' as a synonym of type is deprecated; in a future version of numpy, it will be understood as (type, (1,)) / '(1,)type'.\n",
      "  _np_quint16 = np.dtype([(\"quint16\", np.uint16, 1)])\n",
      "C:\\Users\\20230326\\AppData\\Local\\Continuum\\anaconda3\\lib\\site-packages\\tensorflow\\python\\framework\\dtypes.py:530: FutureWarning: Passing (type, 1) or '1type' as a synonym of type is deprecated; in a future version of numpy, it will be understood as (type, (1,)) / '(1,)type'.\n",
      "  _np_qint32 = np.dtype([(\"qint32\", np.int32, 1)])\n",
      "C:\\Users\\20230326\\AppData\\Local\\Continuum\\anaconda3\\lib\\site-packages\\tensorflow\\python\\framework\\dtypes.py:535: FutureWarning: Passing (type, 1) or '1type' as a synonym of type is deprecated; in a future version of numpy, it will be understood as (type, (1,)) / '(1,)type'.\n",
      "  np_resource = np.dtype([(\"resource\", np.ubyte, 1)])\n"
     ]
    }
   ],
   "source": [
    "# Map the senctences to a sequence of numbers and then pad the sequence\n",
    "# we increased the index of the words by one to use zero as a padding value.\n",
    "# This is done because we want to use the mask_zeor parameter of the embedding layer to ignore inputs with value zero\n",
    "from keras.preprocessing.sequence import pad_sequences\n",
    "\n",
    "# Pad the sentences\n",
    "X_word = pad_sequences(maxlen=max_len, sequences=X_word, value=word2idx[\"PAD\"], padding='post', truncating='post')"
   ]
  },
  {
   "cell_type": "code",
   "execution_count": 9,
   "metadata": {},
   "outputs": [
    {
     "name": "stdout",
     "output_type": "stream",
     "text": [
      "since\n"
     ]
    },
    {
     "data": {
      "text/plain": [
       "['since',\n",
       " 'trillbar_gradientenhanced_tmi_1vd.ecw',\n",
       " 'textu',\n",
       " 'muhling',\n",
       " '1,126',\n",
       " 'i12326',\n",
       " 'observations',\n",
       " 'fingernail',\n",
       " 'jpeg',\n",
       " 'c15']"
      ]
     },
     "execution_count": 9,
     "metadata": {},
     "output_type": "execute_result"
    }
   ],
   "source": [
    "print(words[0])\n",
    "#words[0] = 'NaN'\n",
    "words[:10]"
   ]
  },
  {
   "cell_type": "raw",
   "metadata": {},
   "source": [
    "word_values = []\n",
    "for w in words:\n",
    "    print(w)\n",
    "    if type(w) == str:\n",
    "        word_values.append(w)\n",
    "\n",
    "print(len(word_values))\n",
    "chars = set([w_i for w in word_values for w_i in w])\n",
    "n_chars = len(chars)\n",
    "print(n_chars)\n",
    "print(chars)"
   ]
  },
  {
   "cell_type": "code",
   "execution_count": 10,
   "metadata": {},
   "outputs": [
    {
     "name": "stdout",
     "output_type": "stream",
     "text": [
      "30\n",
      "100\n"
     ]
    }
   ],
   "source": [
    "# Generate a dictionary for the characters we want to use and create the sequence of characters for every token,\n",
    "# set to 10.\n",
    "# We could also use longer or shorter sequences. \n",
    "# We could even use two sequences, one with the five first characters and one with the five last chars\n",
    "max_len_char = 30 # character length\n",
    "print(max_len_char)\n",
    "\n",
    "# tags = list(set(data[\"Tag\"].values))\n",
    "#chars = set([w_i for w in words for w_i in w])\n",
    "#n_chars = len(chars)\n",
    "#print(n_chars)\n",
    "#print(chars)\n",
    "\n",
    "import string\n",
    "chars = [s for s in string.printable]\n",
    "n_chars = len(chars)\n",
    "print(n_chars)"
   ]
  },
  {
   "cell_type": "code",
   "execution_count": 11,
   "metadata": {},
   "outputs": [
    {
     "data": {
      "text/plain": [
       "102"
      ]
     },
     "execution_count": 11,
     "metadata": {},
     "output_type": "execute_result"
    }
   ],
   "source": [
    "char2idx = {c: i + 2 for i, c in enumerate(chars)}\n",
    "char2idx[\"PAD\"] = 0\n",
    "char2idx[\"UNK\"] = 1\n",
    "len(char2idx)"
   ]
  },
  {
   "cell_type": "code",
   "execution_count": 12,
   "metadata": {},
   "outputs": [],
   "source": [
    "X_char = []\n",
    "for sentence in train_sentences:\n",
    "    sent_seq = []\n",
    "    for i in range(max_len):\n",
    "        word_seq = []\n",
    "        for j in range(max_len_char):\n",
    "            try:\n",
    "                word_seq.append(char2idx.get(sentence[i][0][j]))\n",
    "            except:\n",
    "                word_seq.append(char2idx.get(\"PAD\"))\n",
    "        sent_seq.append(word_seq)\n",
    "    X_char.append(np.array(sent_seq))"
   ]
  },
  {
   "cell_type": "code",
   "execution_count": 13,
   "metadata": {},
   "outputs": [
    {
     "name": "stdout",
     "output_type": "stream",
     "text": [
      "[3, 8, 3, 3, 3, 3, 3, 3, 3, 4, 11, 3, 3, 4, 11, 3, 3, 3, 3, 4, 3]\n",
      "[ 3  8  3  3  3  3  3  3  3  4 11  3  3  4 11  3  3  3  3  4  3  0  0  0\n",
      "  0  0  0  0  0  0  0  0  0  0  0  0  0  0  0  0  0  0  0  0  0  0  0  0\n",
      "  0  0  0  0  0  0  0  0  0  0  0  0  0  0  0  0  0  0  0  0  0  0  0  0\n",
      "  0  0  0  0  0  0  0  0]\n"
     ]
    }
   ],
   "source": [
    "# Map tags to a sequence numbers and the pad\n",
    "y = [[tag2idx[w[1]] for w in s] for s in train_sentences]\n",
    "print(y[0])\n",
    "\n",
    "y = pad_sequences(maxlen=max_len, sequences=y, value=tag2idx[\"PAD\"], padding='post', truncating='post')\n",
    "print(y[0])"
   ]
  },
  {
   "cell_type": "raw",
   "metadata": {},
   "source": [
    "print(len(X_char[5]))\n",
    "print(X_char[5].shape)\n",
    "print(X_char[5][:2])"
   ]
  },
  {
   "cell_type": "code",
   "execution_count": 14,
   "metadata": {},
   "outputs": [],
   "source": [
    "# We split in train and test set.\n",
    "from sklearn.model_selection import train_test_split\n",
    "\n",
    "X_word_tr, X_word_te, y_tr, y_te = train_test_split(X_word, y, test_size=0.2, random_state=45)\n",
    "X_char_tr, X_char_te, _, _ = train_test_split(X_char, y, test_size=0.2, random_state=45)"
   ]
  },
  {
   "cell_type": "code",
   "execution_count": 15,
   "metadata": {},
   "outputs": [
    {
     "name": "stdout",
     "output_type": "stream",
     "text": [
      "(26862, 80)\n",
      "(6716, 80)\n",
      "26862\n",
      "6716\n",
      "26862\n",
      "6716\n"
     ]
    }
   ],
   "source": [
    "print(X_word_tr.shape)\n",
    "print(X_word_te.shape)\n",
    "\n",
    "print(len(X_char_tr))\n",
    "print(len(X_char_te))\n",
    "\n",
    "print(len(y_tr))\n",
    "print(len(y_te))"
   ]
  },
  {
   "cell_type": "markdown",
   "metadata": {},
   "source": [
    "Define the character embedding model\n",
    "Trick is to wrap the parts that should be applied to the characters in a TimeDistributed layer to apply the same layers to every character sequence."
   ]
  },
  {
   "cell_type": "code",
   "execution_count": 16,
   "metadata": {},
   "outputs": [
    {
     "name": "stdout",
     "output_type": "stream",
     "text": [
      "WARNING:tensorflow:From C:\\Users\\20230326\\AppData\\Local\\Continuum\\anaconda3\\lib\\site-packages\\tensorflow\\python\\framework\\op_def_library.py:263: colocate_with (from tensorflow.python.framework.ops) is deprecated and will be removed in a future version.\n",
      "Instructions for updating:\n",
      "Colocations handled automatically by placer.\n",
      "WARNING:tensorflow:From C:\\Users\\20230326\\AppData\\Local\\Continuum\\anaconda3\\lib\\site-packages\\keras\\backend\\tensorflow_backend.py:3445: calling dropout (from tensorflow.python.ops.nn_ops) with keep_prob is deprecated and will be removed in a future version.\n",
      "Instructions for updating:\n",
      "Please use `rate` instead of `keep_prob`. Rate should be set to `rate = 1 - keep_prob`.\n"
     ]
    }
   ],
   "source": [
    "from keras.models import Model, Input\n",
    "from keras.layers import LSTM, Embedding, Dense, TimeDistributed, Dropout, Conv1D\n",
    "from keras.layers import Bidirectional, concatenate, SpatialDropout1D, GlobalMaxPooling1D\n",
    "from keras.utils import plot_model\n",
    "from keras.utils.np_utils import to_categorical\n",
    "\n",
    "# input and embedding for words\n",
    "word_in = Input(shape=(max_len,))\n",
    "emb_word = Embedding(input_dim=n_words + 4, output_dim=64, input_length=max_len, mask_zero=True)(word_in)\n",
    "\n",
    "# input and embeddings for characters\n",
    "char_in = Input(shape=(max_len, max_len_char,))\n",
    "emb_char = TimeDistributed(Embedding(input_dim=n_chars + 2, output_dim=30, input_length=max_len_char, mask_zero=True))(char_in)\n",
    "\n",
    "# character LSTM to get word encodings by characters\n",
    "char_enc = TimeDistributed(LSTM(units=100, return_sequences=False, recurrent_dropout=0.5))(emb_char)\n",
    "\n",
    "# main LSTM\n",
    "x = concatenate([emb_word, char_enc])\n",
    "x = SpatialDropout1D(0.3)(x)\n",
    "\n",
    "main_lstm = Bidirectional(LSTM(units=100, return_sequences=True, recurrent_dropout=0.5))(x)\n",
    "\n",
    "main_dense = TimeDistributed(Dense(100, activation=\"relu\"))(main_lstm)  # a dense layer as suggested by neuralNer\n",
    "\n",
    "out = TimeDistributed(Dense(n_tags + 1, activation=\"softmax\"))(main_dense)\n",
    "\n",
    "model = Model([word_in, char_in], out)"
   ]
  },
  {
   "cell_type": "code",
   "execution_count": 17,
   "metadata": {},
   "outputs": [],
   "source": [
    "# Train the model: compile the model and look at the summary.\n",
    "model.compile(optimizer=\"adam\", loss=\"sparse_categorical_crossentropy\")\n",
    "#model.compile(optimizer='adam', loss='sparse_categorical_crossentropy', metrics=['accuracy'])\n",
    "#model.compile(optimizer=\"adam\", loss=\"sparse_categorical_crossentropy\", metrics=[\"acc\"])"
   ]
  },
  {
   "cell_type": "code",
   "execution_count": 18,
   "metadata": {},
   "outputs": [
    {
     "name": "stdout",
     "output_type": "stream",
     "text": [
      "__________________________________________________________________________________________________\n",
      "Layer (type)                    Output Shape         Param #     Connected to                     \n",
      "==================================================================================================\n",
      "input_2 (InputLayer)            (None, 80, 30)       0                                            \n",
      "__________________________________________________________________________________________________\n",
      "input_1 (InputLayer)            (None, 80)           0                                            \n",
      "__________________________________________________________________________________________________\n",
      "time_distributed_1 (TimeDistrib (None, 80, 30, 30)   3060        input_2[0][0]                    \n",
      "__________________________________________________________________________________________________\n",
      "embedding_1 (Embedding)         (None, 80, 64)       1859456     input_1[0][0]                    \n",
      "__________________________________________________________________________________________________\n",
      "time_distributed_2 (TimeDistrib (None, 80, 100)      52400       time_distributed_1[0][0]         \n",
      "__________________________________________________________________________________________________\n",
      "concatenate_1 (Concatenate)     (None, 80, 164)      0           embedding_1[0][0]                \n",
      "                                                                 time_distributed_2[0][0]         \n",
      "__________________________________________________________________________________________________\n",
      "spatial_dropout1d_1 (SpatialDro (None, 80, 164)      0           concatenate_1[0][0]              \n",
      "__________________________________________________________________________________________________\n",
      "bidirectional_1 (Bidirectional) (None, 80, 200)      212000      spatial_dropout1d_1[0][0]        \n",
      "__________________________________________________________________________________________________\n",
      "time_distributed_3 (TimeDistrib (None, 80, 100)      20100       bidirectional_1[0][0]            \n",
      "__________________________________________________________________________________________________\n",
      "time_distributed_4 (TimeDistrib (None, 80, 14)       1414        time_distributed_3[0][0]         \n",
      "==================================================================================================\n",
      "Total params: 2,148,430\n",
      "Trainable params: 2,148,430\n",
      "Non-trainable params: 0\n",
      "__________________________________________________________________________________________________\n"
     ]
    }
   ],
   "source": [
    "model.summary()\n",
    "plot_model(model, to_file='model2_WL_CL_BiLSTM.png', show_shapes=True, show_layer_names=True)"
   ]
  },
  {
   "cell_type": "code",
   "execution_count": 19,
   "metadata": {},
   "outputs": [
    {
     "name": "stdout",
     "output_type": "stream",
     "text": [
      "WARNING:tensorflow:From C:\\Users\\20230326\\AppData\\Local\\Continuum\\anaconda3\\lib\\site-packages\\tensorflow\\python\\ops\\math_ops.py:3066: to_int32 (from tensorflow.python.ops.math_ops) is deprecated and will be removed in a future version.\n",
      "Instructions for updating:\n",
      "Use tf.cast instead.\n",
      "Train on 21489 samples, validate on 5373 samples\n",
      "Epoch 1/10\n",
      " - 319s - loss: 0.2771 - val_loss: 0.0757\n",
      "Epoch 2/10\n",
      " - 320s - loss: 0.0530 - val_loss: 0.0337\n",
      "Epoch 3/10\n",
      " - 313s - loss: 0.0280 - val_loss: 0.0241\n",
      "Epoch 4/10\n",
      " - 313s - loss: 0.0186 - val_loss: 0.0189\n",
      "Epoch 5/10\n",
      " - 317s - loss: 0.0141 - val_loss: 0.0175\n",
      "Epoch 6/10\n",
      " - 317s - loss: 0.0109 - val_loss: 0.0173\n",
      "Epoch 7/10\n",
      " - 318s - loss: 0.0090 - val_loss: 0.0167\n",
      "Epoch 8/10\n",
      " - 320s - loss: 0.0072 - val_loss: 0.0169\n",
      "Epoch 9/10\n"
     ]
    },
    {
     "ename": "KeyboardInterrupt",
     "evalue": "",
     "output_type": "error",
     "traceback": [
      "\u001b[1;31m---------------------------------------------------------------------------\u001b[0m",
      "\u001b[1;31mKeyboardInterrupt\u001b[0m                         Traceback (most recent call last)",
      "\u001b[1;32m<ipython-input-19-776cc9fb9c00>\u001b[0m in \u001b[0;36m<module>\u001b[1;34m\u001b[0m\n\u001b[0;32m      6\u001b[0m                      np.array(X_char_tr).reshape((len(X_char_tr), max_len, max_len_char))],\n\u001b[0;32m      7\u001b[0m                     \u001b[0mnp\u001b[0m\u001b[1;33m.\u001b[0m\u001b[0marray\u001b[0m\u001b[1;33m(\u001b[0m\u001b[0my_tr\u001b[0m\u001b[1;33m)\u001b[0m\u001b[1;33m.\u001b[0m\u001b[0mreshape\u001b[0m\u001b[1;33m(\u001b[0m\u001b[0mlen\u001b[0m\u001b[1;33m(\u001b[0m\u001b[0my_tr\u001b[0m\u001b[1;33m)\u001b[0m\u001b[1;33m,\u001b[0m \u001b[0mmax_len\u001b[0m\u001b[1;33m,\u001b[0m \u001b[1;36m1\u001b[0m\u001b[1;33m)\u001b[0m\u001b[1;33m,\u001b[0m\u001b[1;33m\u001b[0m\u001b[1;33m\u001b[0m\u001b[0m\n\u001b[1;32m----> 8\u001b[1;33m                     batch_size=32, epochs=10, validation_split=0.2, verbose=2)\n\u001b[0m",
      "\u001b[1;32m~\\AppData\\Local\\Continuum\\anaconda3\\lib\\site-packages\\keras\\engine\\training.py\u001b[0m in \u001b[0;36mfit\u001b[1;34m(self, x, y, batch_size, epochs, verbose, callbacks, validation_split, validation_data, shuffle, class_weight, sample_weight, initial_epoch, steps_per_epoch, validation_steps, **kwargs)\u001b[0m\n\u001b[0;32m   1037\u001b[0m                                         \u001b[0minitial_epoch\u001b[0m\u001b[1;33m=\u001b[0m\u001b[0minitial_epoch\u001b[0m\u001b[1;33m,\u001b[0m\u001b[1;33m\u001b[0m\u001b[1;33m\u001b[0m\u001b[0m\n\u001b[0;32m   1038\u001b[0m                                         \u001b[0msteps_per_epoch\u001b[0m\u001b[1;33m=\u001b[0m\u001b[0msteps_per_epoch\u001b[0m\u001b[1;33m,\u001b[0m\u001b[1;33m\u001b[0m\u001b[1;33m\u001b[0m\u001b[0m\n\u001b[1;32m-> 1039\u001b[1;33m                                         validation_steps=validation_steps)\n\u001b[0m\u001b[0;32m   1040\u001b[0m \u001b[1;33m\u001b[0m\u001b[0m\n\u001b[0;32m   1041\u001b[0m     def evaluate(self, x=None, y=None,\n",
      "\u001b[1;32m~\\AppData\\Local\\Continuum\\anaconda3\\lib\\site-packages\\keras\\engine\\training_arrays.py\u001b[0m in \u001b[0;36mfit_loop\u001b[1;34m(model, f, ins, out_labels, batch_size, epochs, verbose, callbacks, val_f, val_ins, shuffle, callback_metrics, initial_epoch, steps_per_epoch, validation_steps)\u001b[0m\n\u001b[0;32m    197\u001b[0m                     \u001b[0mins_batch\u001b[0m\u001b[1;33m[\u001b[0m\u001b[0mi\u001b[0m\u001b[1;33m]\u001b[0m \u001b[1;33m=\u001b[0m \u001b[0mins_batch\u001b[0m\u001b[1;33m[\u001b[0m\u001b[0mi\u001b[0m\u001b[1;33m]\u001b[0m\u001b[1;33m.\u001b[0m\u001b[0mtoarray\u001b[0m\u001b[1;33m(\u001b[0m\u001b[1;33m)\u001b[0m\u001b[1;33m\u001b[0m\u001b[1;33m\u001b[0m\u001b[0m\n\u001b[0;32m    198\u001b[0m \u001b[1;33m\u001b[0m\u001b[0m\n\u001b[1;32m--> 199\u001b[1;33m                 \u001b[0mouts\u001b[0m \u001b[1;33m=\u001b[0m \u001b[0mf\u001b[0m\u001b[1;33m(\u001b[0m\u001b[0mins_batch\u001b[0m\u001b[1;33m)\u001b[0m\u001b[1;33m\u001b[0m\u001b[1;33m\u001b[0m\u001b[0m\n\u001b[0m\u001b[0;32m    200\u001b[0m                 \u001b[0mouts\u001b[0m \u001b[1;33m=\u001b[0m \u001b[0mto_list\u001b[0m\u001b[1;33m(\u001b[0m\u001b[0mouts\u001b[0m\u001b[1;33m)\u001b[0m\u001b[1;33m\u001b[0m\u001b[1;33m\u001b[0m\u001b[0m\n\u001b[0;32m    201\u001b[0m                 \u001b[1;32mfor\u001b[0m \u001b[0ml\u001b[0m\u001b[1;33m,\u001b[0m \u001b[0mo\u001b[0m \u001b[1;32min\u001b[0m \u001b[0mzip\u001b[0m\u001b[1;33m(\u001b[0m\u001b[0mout_labels\u001b[0m\u001b[1;33m,\u001b[0m \u001b[0mouts\u001b[0m\u001b[1;33m)\u001b[0m\u001b[1;33m:\u001b[0m\u001b[1;33m\u001b[0m\u001b[1;33m\u001b[0m\u001b[0m\n",
      "\u001b[1;32m~\\AppData\\Local\\Continuum\\anaconda3\\lib\\site-packages\\keras\\backend\\tensorflow_backend.py\u001b[0m in \u001b[0;36m__call__\u001b[1;34m(self, inputs)\u001b[0m\n\u001b[0;32m   2713\u001b[0m                 \u001b[1;32mreturn\u001b[0m \u001b[0mself\u001b[0m\u001b[1;33m.\u001b[0m\u001b[0m_legacy_call\u001b[0m\u001b[1;33m(\u001b[0m\u001b[0minputs\u001b[0m\u001b[1;33m)\u001b[0m\u001b[1;33m\u001b[0m\u001b[1;33m\u001b[0m\u001b[0m\n\u001b[0;32m   2714\u001b[0m \u001b[1;33m\u001b[0m\u001b[0m\n\u001b[1;32m-> 2715\u001b[1;33m             \u001b[1;32mreturn\u001b[0m \u001b[0mself\u001b[0m\u001b[1;33m.\u001b[0m\u001b[0m_call\u001b[0m\u001b[1;33m(\u001b[0m\u001b[0minputs\u001b[0m\u001b[1;33m)\u001b[0m\u001b[1;33m\u001b[0m\u001b[1;33m\u001b[0m\u001b[0m\n\u001b[0m\u001b[0;32m   2716\u001b[0m         \u001b[1;32melse\u001b[0m\u001b[1;33m:\u001b[0m\u001b[1;33m\u001b[0m\u001b[1;33m\u001b[0m\u001b[0m\n\u001b[0;32m   2717\u001b[0m             \u001b[1;32mif\u001b[0m \u001b[0mpy_any\u001b[0m\u001b[1;33m(\u001b[0m\u001b[0mis_tensor\u001b[0m\u001b[1;33m(\u001b[0m\u001b[0mx\u001b[0m\u001b[1;33m)\u001b[0m \u001b[1;32mfor\u001b[0m \u001b[0mx\u001b[0m \u001b[1;32min\u001b[0m \u001b[0minputs\u001b[0m\u001b[1;33m)\u001b[0m\u001b[1;33m:\u001b[0m\u001b[1;33m\u001b[0m\u001b[1;33m\u001b[0m\u001b[0m\n",
      "\u001b[1;32m~\\AppData\\Local\\Continuum\\anaconda3\\lib\\site-packages\\keras\\backend\\tensorflow_backend.py\u001b[0m in \u001b[0;36m_call\u001b[1;34m(self, inputs)\u001b[0m\n\u001b[0;32m   2673\u001b[0m             \u001b[0mfetched\u001b[0m \u001b[1;33m=\u001b[0m \u001b[0mself\u001b[0m\u001b[1;33m.\u001b[0m\u001b[0m_callable_fn\u001b[0m\u001b[1;33m(\u001b[0m\u001b[1;33m*\u001b[0m\u001b[0marray_vals\u001b[0m\u001b[1;33m,\u001b[0m \u001b[0mrun_metadata\u001b[0m\u001b[1;33m=\u001b[0m\u001b[0mself\u001b[0m\u001b[1;33m.\u001b[0m\u001b[0mrun_metadata\u001b[0m\u001b[1;33m)\u001b[0m\u001b[1;33m\u001b[0m\u001b[1;33m\u001b[0m\u001b[0m\n\u001b[0;32m   2674\u001b[0m         \u001b[1;32melse\u001b[0m\u001b[1;33m:\u001b[0m\u001b[1;33m\u001b[0m\u001b[1;33m\u001b[0m\u001b[0m\n\u001b[1;32m-> 2675\u001b[1;33m             \u001b[0mfetched\u001b[0m \u001b[1;33m=\u001b[0m \u001b[0mself\u001b[0m\u001b[1;33m.\u001b[0m\u001b[0m_callable_fn\u001b[0m\u001b[1;33m(\u001b[0m\u001b[1;33m*\u001b[0m\u001b[0marray_vals\u001b[0m\u001b[1;33m)\u001b[0m\u001b[1;33m\u001b[0m\u001b[1;33m\u001b[0m\u001b[0m\n\u001b[0m\u001b[0;32m   2676\u001b[0m         \u001b[1;32mreturn\u001b[0m \u001b[0mfetched\u001b[0m\u001b[1;33m[\u001b[0m\u001b[1;33m:\u001b[0m\u001b[0mlen\u001b[0m\u001b[1;33m(\u001b[0m\u001b[0mself\u001b[0m\u001b[1;33m.\u001b[0m\u001b[0moutputs\u001b[0m\u001b[1;33m)\u001b[0m\u001b[1;33m]\u001b[0m\u001b[1;33m\u001b[0m\u001b[1;33m\u001b[0m\u001b[0m\n\u001b[0;32m   2677\u001b[0m \u001b[1;33m\u001b[0m\u001b[0m\n",
      "\u001b[1;32m~\\AppData\\Local\\Continuum\\anaconda3\\lib\\site-packages\\tensorflow\\python\\client\\session.py\u001b[0m in \u001b[0;36m__call__\u001b[1;34m(self, *args, **kwargs)\u001b[0m\n\u001b[0;32m   1437\u001b[0m           ret = tf_session.TF_SessionRunCallable(\n\u001b[0;32m   1438\u001b[0m               \u001b[0mself\u001b[0m\u001b[1;33m.\u001b[0m\u001b[0m_session\u001b[0m\u001b[1;33m.\u001b[0m\u001b[0m_session\u001b[0m\u001b[1;33m,\u001b[0m \u001b[0mself\u001b[0m\u001b[1;33m.\u001b[0m\u001b[0m_handle\u001b[0m\u001b[1;33m,\u001b[0m \u001b[0margs\u001b[0m\u001b[1;33m,\u001b[0m \u001b[0mstatus\u001b[0m\u001b[1;33m,\u001b[0m\u001b[1;33m\u001b[0m\u001b[1;33m\u001b[0m\u001b[0m\n\u001b[1;32m-> 1439\u001b[1;33m               run_metadata_ptr)\n\u001b[0m\u001b[0;32m   1440\u001b[0m         \u001b[1;32mif\u001b[0m \u001b[0mrun_metadata\u001b[0m\u001b[1;33m:\u001b[0m\u001b[1;33m\u001b[0m\u001b[1;33m\u001b[0m\u001b[0m\n\u001b[0;32m   1441\u001b[0m           \u001b[0mproto_data\u001b[0m \u001b[1;33m=\u001b[0m \u001b[0mtf_session\u001b[0m\u001b[1;33m.\u001b[0m\u001b[0mTF_GetBuffer\u001b[0m\u001b[1;33m(\u001b[0m\u001b[0mrun_metadata_ptr\u001b[0m\u001b[1;33m)\u001b[0m\u001b[1;33m\u001b[0m\u001b[1;33m\u001b[0m\u001b[0m\n",
      "\u001b[1;31mKeyboardInterrupt\u001b[0m: "
     ]
    }
   ],
   "source": [
    "#history = model.fit([X_word_tr,\n",
    "#                     np.array(X_char_tr).reshape((len(X_char_tr), max_len, max_len_char))],\n",
    "#                    np.array(y_tr).reshape(len(y_tr), max_len, 1),\n",
    "#                    batch_size=32, epochs=100, validation_split=0.1, verbose=1)\n",
    "history = model.fit([X_word_tr,\n",
    "                     np.array(X_char_tr).reshape((len(X_char_tr), max_len, max_len_char))],\n",
    "                    np.array(y_tr).reshape(len(y_tr), max_len, 1),\n",
    "                    batch_size=32, epochs=10, validation_split=0.2, verbose=2)"
   ]
  },
  {
   "cell_type": "code",
   "execution_count": 20,
   "metadata": {},
   "outputs": [
    {
     "data": {
      "image/png": "[encoded data removed]",
      "text/plain": [
       "<Figure size 360x360 with 1 Axes>"
      ]
     },
     "metadata": {},
     "output_type": "display_data"
    }
   ],
   "source": [
    "hist = pd.DataFrame(history.history)\n",
    "\n",
    "import matplotlib.pyplot as plt\n",
    "plt.style.use(\"ggplot\")\n",
    "plt.figure(figsize=(5,5))\n",
    "plt.plot(hist[\"loss\"])\n",
    "plt.plot(hist[\"val_loss\"])\n",
    "\n",
    "#plt.figure(figsize=(5,5))\n",
    "#plt.plot(hist[\"acc\"])\n",
    "#plt.plot(hist[\"val_acc\"])\n",
    "plt.show()"
   ]
  },
  {
   "cell_type": "code",
   "execution_count": 21,
   "metadata": {},
   "outputs": [],
   "source": [
    "# Save the model\n",
    "from keras.models import load_model\n",
    "\n",
    "model.save(r\"C:/Users/20230326/wamex/data/2020_model_WL_CL_BiLSTM_Small.h5\")  # creates a HDF5 file 'my_model.h5'\n",
    "#del model  # deletes the existing model"
   ]
  },
  {
   "cell_type": "raw",
   "metadata": {},
   "source": [
    "# TEST this\n",
    "# returns a compiled model, identical to the previous one\n",
    "model_loaded = load_model(r\"C:/Users/20230326/wamex/data/2020_model_WL_CL_BiLSTM_Small.h5\")\n",
    "y_pred = model_loaded.predict([X_word_te,\n",
    "                        np.array(X_char_te).reshape((len(X_char_te), max_len, max_len_char))])\n",
    "len(y_pred)"
   ]
  },
  {
   "cell_type": "code",
   "execution_count": 22,
   "metadata": {},
   "outputs": [
    {
     "data": {
      "text/plain": [
       "3386"
      ]
     },
     "execution_count": 22,
     "metadata": {},
     "output_type": "execute_result"
    }
   ],
   "source": [
    "y_pred = model.predict([X_word_te,\n",
    "                        np.array(X_char_te).reshape((len(X_char_te), max_len, max_len_char))])\n",
    "len(y_pred)"
   ]
  },
  {
   "cell_type": "code",
   "execution_count": 23,
   "metadata": {},
   "outputs": [],
   "source": [
    "def print_prediction(i):\n",
    "    p = np.argmax(y_pred[i], axis=-1)\n",
    "    print(\"{:15}|{:15}|{}\".format(\"Word\", \"Truth\", \"Predicted\"))\n",
    "    print(40 * \"=\")\n",
    "\n",
    "    for w, t, pred in zip(X_word_te[i], y_te[i], p):\n",
    "        if w != 0:\n",
    "            print(\"{:15} {:15} {}\".format(idx2word[w], idx2tag[t], idx2tag[pred]))        "
   ]
  },
  {
   "cell_type": "raw",
   "metadata": {
    "scrolled": true
   },
   "source": [
    "#for i in range(0, len(y_pred)):\n",
    "for i in range(0, 10):\n",
    "    print_prediction(i)"
   ]
  },
  {
   "cell_type": "code",
   "execution_count": 24,
   "metadata": {},
   "outputs": [],
   "source": [
    "len(y_pred) # Number of sentences in prediction / test set\n",
    "\n",
    "def get_results(i):\n",
    "    words_value = []\n",
    "    tags_true = []\n",
    "    tags_pred = []\n",
    "    p = np.argmax(y_pred[i], axis=-1)\n",
    "    #print(\"{:15}||{:5}||{}\".format(\"Word\", \"True\", \"Pred\"))\n",
    "    #print(30 * \"=\")\n",
    "\n",
    "    for w, t, pred in zip(X_word_te[i], y_te[i], p):\n",
    "        if w != 0:\n",
    "            #print(\"{:15}: {:5} {}\".format(idx2word[w], idx2tag[t], idx2tag[pred]))\n",
    "            words_value.append(idx2word[w])\n",
    "            tags_true.append(idx2tag[t])\n",
    "            tags_pred.append(idx2tag[pred])\n",
    "            \n",
    "    return words_value, tags_true, tags_pred"
   ]
  },
  {
   "cell_type": "code",
   "execution_count": 25,
   "metadata": {},
   "outputs": [],
   "source": [
    "#for i in range(0, len(y_pred)):\n",
    "words_tagged = []\n",
    "labels_true = []\n",
    "labels_predicted = []\n",
    "\n",
    "for i in range(0, len(y_pred)):\n",
    "    words_value, tags_true, tags_pred = get_results(i)\n",
    "    words_tagged.extend(words_value)\n",
    "    labels_true.extend(tags_true)\n",
    "    labels_predicted.extend(tags_pred)"
   ]
  },
  {
   "cell_type": "code",
   "execution_count": 26,
   "metadata": {},
   "outputs": [
    {
     "name": "stdout",
     "output_type": "stream",
     "text": [
      "94198\n",
      "94198\n",
      "             precision    recall  f1-score   support\n",
      "\n",
      "       ROCK     0.9629    0.9825    0.9726      2456\n",
      "  TIMESCALE     1.0000    1.0000    1.0000       261\n",
      "   LOCATION     0.9788    0.9883    0.9835      2055\n",
      "    MINERAL     0.9900    0.9895    0.9897      2093\n",
      "      STRAT     0.9227    0.9453    0.9338       530\n",
      "ORE_DEPOSIT     0.9545    0.9882    0.9711       255\n",
      "\n",
      "  micro avg     0.9726    0.9842    0.9784      7650\n",
      "  macro avg     0.9728    0.9842    0.9784      7650\n",
      "\n"
     ]
    }
   ],
   "source": [
    "from seqeval.metrics import precision_score, recall_score, f1_score, classification_report\n",
    "\n",
    "print(len(labels_true))\n",
    "#print(y_te[0])\n",
    "\n",
    "print(len(labels_predicted))\n",
    "#print(y_pred[0])\n",
    "\n",
    "#print(classification_report(labels_true, labels_predicted))\n",
    "print(classification_report(labels_true, labels_predicted, digits=4))"
   ]
  },
  {
   "cell_type": "code",
   "execution_count": 27,
   "metadata": {},
   "outputs": [
    {
     "name": "stdout",
     "output_type": "stream",
     "text": [
      "['O', 'O', 'O', 'O', 'O', 'O', 'O', 'O', 'O', 'O', 'O', 'O', 'O', 'B-MINERAL', 'O', 'B-MINERAL', 'B-ROCK', 'O', 'O', 'O']\n",
      "['O', 'O', 'O', 'O', 'O', 'O', 'O', 'O', 'O', 'O', 'O', 'O', 'O', 'B-MINERAL', 'O', 'B-MINERAL', 'B-ROCK', 'O', 'O', 'O']\n"
     ]
    }
   ],
   "source": [
    "print(labels_true[:20])\n",
    "print(labels_predicted[:20])"
   ]
  },
  {
   "cell_type": "markdown",
   "metadata": {},
   "source": [
    "# TEST SET\n",
    "## Manually annotated dataset for model evaluation"
   ]
  },
  {
   "cell_type": "code",
   "execution_count": 32,
   "metadata": {},
   "outputs": [
    {
     "name": "stdout",
     "output_type": "stream",
     "text": [
      "[4 9 4 4 4 4 4 4 4 1 5 4 4 1 5 4 4 4 4 1 4 0 0 0 0 0 0 0 0 0 0 0 0 0 0 0 0\n",
      " 0 0 0 0 0 0 0 0 0 0 0 0 0 0 0 0 0 0 0 0 0 0 0 0 0 0 0 0 0 0 0 0 0 0 0 0 0\n",
      " 0 0 0 0 0 0]\n",
      "[ 4  4  4  4  4 11 10 10  4  4  4  4  4  4  4  0  0  0  0  0  0  0  0  0\n",
      "  0  0  0  0  0  0  0  0  0  0  0  0  0  0  0  0  0  0  0  0  0  0  0  0\n",
      "  0  0  0  0  0  0  0  0  0  0  0  0  0  0  0  0  0  0  0  0  0  0  0  0\n",
      "  0  0  0  0  0  0  0  0]\n",
      "Test set word shape =  (1799, 80)\n",
      "Test set character length =  1799\n",
      "Test set labels length =  1799\n"
     ]
    }
   ],
   "source": [
    "# Get the word ids for each sentence\n",
    "test_X_word = [[word2idx[w[0]] for w in s] for s in test_sentences]\n",
    "\n",
    "# Pad the sentences\n",
    "test_X_word = pad_sequences(maxlen=max_len, sequences=test_X_word, value=word2idx[\"PAD\"], padding='post', truncating='post')\n",
    "\n",
    "test_X_char = []\n",
    "for sentence in test_sentences:\n",
    "    sent_seq = []\n",
    "    for i in range(max_len):\n",
    "        word_seq = []\n",
    "        for j in range(max_len_char):\n",
    "            try:\n",
    "                word_seq.append(char2idx.get(sentence[i][0][j]))\n",
    "            except:\n",
    "                word_seq.append(char2idx.get(\"PAD\"))\n",
    "        sent_seq.append(word_seq)\n",
    "    test_X_char.append(np.array(sent_seq))\n",
    "    \n",
    "# Map tags to a sequence numbers and the pad\n",
    "test_y = [[tag2idx[w[1]] for w in s] for s in test_sentences]\n",
    "print(y[0])\n",
    "\n",
    "test_y = pad_sequences(maxlen=max_len, sequences=test_y, value=tag2idx[\"PAD\"], padding='post', truncating='post')\n",
    "print(test_y[0])\n",
    "\n",
    "print('Test set word shape = ', test_X_word.shape)\n",
    "print('Test set character length = ', len(test_X_char))\n",
    "print('Test set labels length = ', len(test_y))"
   ]
  },
  {
   "cell_type": "code",
   "execution_count": 33,
   "metadata": {},
   "outputs": [
    {
     "data": {
      "text/plain": [
       "1799"
      ]
     },
     "execution_count": 33,
     "metadata": {},
     "output_type": "execute_result"
    }
   ],
   "source": [
    "# Predict the labels on the manually created TEST SET\n",
    "test_y_pred = model.predict([test_X_word, np.array(test_X_char).reshape((len(test_X_char), max_len, max_len_char))])\n",
    "len(test_y_pred) # Number of sentences in prediction / test set"
   ]
  },
  {
   "cell_type": "code",
   "execution_count": 34,
   "metadata": {},
   "outputs": [
    {
     "name": "stdout",
     "output_type": "stream",
     "text": [
      "48033\n",
      "48033\n",
      "             precision    recall  f1-score   support\n",
      "\n",
      "ORE_DEPOSIT     0.7072    0.5548    0.6218       283\n",
      "       ROCK     0.5596    0.5719    0.5657      1495\n",
      "  TIMESCALE     1.0000    0.0051    0.0102       196\n",
      "      STRAT     0.4206    0.0728    0.1241       618\n",
      "   LOCATION     0.0143    0.0011    0.0021       887\n",
      "    MINERAL     0.6577    0.7534    0.7023       969\n",
      "\n",
      "  micro avg     0.5889    0.4022    0.4780      4448\n",
      "  macro avg     0.4817    0.4022    0.4008      4448\n",
      "\n"
     ]
    }
   ],
   "source": [
    "def get_test_results(i):\n",
    "    words_value = []\n",
    "    tags_true = []\n",
    "    tags_pred = []\n",
    "    p = np.argmax(test_y_pred[i], axis=-1)\n",
    "    #print(\"{:15}||{:5}||{}\".format(\"Word\", \"True\", \"Pred\"))\n",
    "    #print(30 * \"=\")\n",
    "\n",
    "    for w, t, pred in zip(test_X_word[i], test_y[i], p):\n",
    "        if w != 0:\n",
    "            #print(\"{:15}: {:5} {}\".format(idx2word[w], idx2tag[t], idx2tag[pred]))\n",
    "            words_value.append(idx2word[w])\n",
    "            tags_true.append(idx2tag[t])\n",
    "            tags_pred.append(idx2tag[pred])\n",
    "            \n",
    "    return words_value, tags_true, tags_pred\n",
    "\n",
    "words_tagged = []\n",
    "labels_true = []\n",
    "labels_predicted = []\n",
    "\n",
    "for i in range(0, len(test_y_pred)):\n",
    "    words_value, tags_true, tags_pred = get_test_results(i)\n",
    "    words_tagged.extend(words_value)\n",
    "    labels_true.extend(tags_true)\n",
    "    labels_predicted.extend(tags_pred)\n",
    "    \n",
    "print(len(labels_true))\n",
    "#print(y_te[0])\n",
    "\n",
    "print(len(labels_predicted))\n",
    "#print(y_pred[0])\n",
    "\n",
    "#print(classification_report(labels_true, labels_predicted))\n",
    "print(classification_report(labels_true, labels_predicted, digits=4))"
   ]
  },
  {
   "cell_type": "code",
   "execution_count": null,
   "metadata": {},
   "outputs": [],
   "source": [
    "f = open(filename_result, 'w')\n",
    "f.write(\"Word, GroundTruth, Predicted\\n\")\n",
    "for i in range(0, len(test_y_pred)):    \n",
    "    p = np.argmax(test_y_pred[i], axis=-1)    \n",
    "    #print(40 * \"=\")\n",
    "\n",
    "    for w, t, pred in zip(test_X_word[i], test_y[i], p):\n",
    "        if w != 0:\n",
    "            #print(\"{:15} {:15} {}\".format(idx2word[w], idx2tag[t], idx2tag[pred]))  \n",
    "            f.write(idx2word[w] + ',' + idx2tag[t] + ',' + idx2tag[pred] + '\\n')\n",
    "f.close()\n",
    "#for i in range(0, 10):\n",
    "    #test_prediction(i)"
   ]
  },
  {
   "cell_type": "code",
   "execution_count": null,
   "metadata": {},
   "outputs": [],
   "source": [
    "def test_prediction(i):    \n",
    "    p = np.argmax(test_y_pred[i], axis=-1)\n",
    "    print(\"{:15}|{:15}|{}\".format(\"Word\", \"GroundTruth\", \"Predicted\"))\n",
    "    print(40 * \"=\")\n",
    "\n",
    "    for w, t, pred in zip(test_X_word[i], test_y[i], p):\n",
    "        if w != 0:\n",
    "            print(\"{:15} {:15} {}\".format(idx2word[w], idx2tag[t], idx2tag[pred]))  "
   ]
  },
  {
   "cell_type": "raw",
   "metadata": {},
   "source": [
    "c = 0\n",
    "for s in test_sentences:\n",
    "    for w in s:\n",
    "        c += 1\n",
    "        print(c, w, tag2idx[w[1]])"
   ]
  },
  {
   "cell_type": "code",
   "execution_count": null,
   "metadata": {},
   "outputs": [],
   "source": []
  },
  {
   "cell_type": "raw",
   "metadata": {},
   "source": [
    "!pip install seqeval"
   ]
  },
  {
   "cell_type": "raw",
   "metadata": {},
   "source": [
    "#word2idx.keys()\n",
    "word2idx.values()"
   ]
  },
  {
   "cell_type": "raw",
   "metadata": {},
   "source": [
    "X_char = []\n",
    "sentence = [‘Geographical’]\n",
    "max_len = 3\n",
    "max_len_char = 20\n",
    "\n",
    "for i in range(max_len):\n",
    "word_seq = []\n",
    "for j in range(max_len_char):\n",
    "try:\n",
    "word_seq.append(char2idx.get(sentence[i][j]))\n",
    "except:\n",
    "word_seq.append(char2idx.get(“PAD”))\n",
    "X_char.append(word_seq)\n",
    "\n",
    "X_char = [np.array(X_char)]\n",
    "X_word = [[word2idx[s] if s in word2idx.keys() else word2idx[‘UNK’] for s in sentence]]\n",
    "X_word = pad_sequences(maxlen=max_len, sequences=X_word, value=word2idx[“PAD”], padding=’post’, truncating=’post’)\n",
    "X_word = np.array(X_word)\n",
    "y_pred = model.predict([X_word, np.array(X_char).reshape((len(X_char), max_len, max_len_char))])\n",
    "p = np.argmax(y_pred[0], axis=-1)\n",
    "\n",
    "for pred in p:\n",
    "print(idx2tag[pred])"
   ]
  }
 ],
 "metadata": {
  "kernelspec": {
   "display_name": "Python 3",
   "language": "python",
   "name": "python3"
  },
  "language_info": {
   "codemirror_mode": {
    "name": "ipython",
    "version": 3
   },
   "file_extension": ".py",
   "mimetype": "text/x-python",
   "name": "python",
   "nbconvert_exporter": "python",
   "pygments_lexer": "ipython3",
   "version": "3.7.3"
  }
 },
 "nbformat": 4,
 "nbformat_minor": 2
}
